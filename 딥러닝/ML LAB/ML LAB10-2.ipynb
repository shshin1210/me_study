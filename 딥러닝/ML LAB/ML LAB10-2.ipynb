{
 "cells": [
  {
   "cell_type": "code",
   "execution_count": 1,
   "id": "ebb78e49",
   "metadata": {},
   "outputs": [],
   "source": [
    "# Lab 10 MNIST and NN\n",
    "\n",
    "import numpy as np\n",
    "import random\n",
    "import tensorflow as tf"
   ]
  },
  {
   "cell_type": "code",
   "execution_count": 2,
   "id": "61b1ed4f",
   "metadata": {},
   "outputs": [],
   "source": [
    "random.seed(777) #for reproductibility\n",
    "learning_rate = 0.001\n",
    "batch_size = 100\n",
    "training_epochs = 15\n",
    "nb_classes = 10"
   ]
  },
  {
   "cell_type": "code",
   "execution_count": 3,
   "id": "41d5c1f8",
   "metadata": {},
   "outputs": [
    {
     "name": "stdout",
     "output_type": "stream",
     "text": [
      "(60000, 28, 28)\n"
     ]
    }
   ],
   "source": [
    "(x_train, y_train), (x_test2, y_test) = tf.keras.datasets.mnist.load_data()\n",
    "print(x_train.shape)"
   ]
  },
  {
   "cell_type": "code",
   "execution_count": 4,
   "id": "5d105cbb",
   "metadata": {},
   "outputs": [
    {
     "name": "stdout",
     "output_type": "stream",
     "text": [
      "(60000, 28, 28)\n"
     ]
    }
   ],
   "source": [
    "print(x_train.shape)"
   ]
  },
  {
   "cell_type": "code",
   "execution_count": 5,
   "id": "ca83ff29",
   "metadata": {},
   "outputs": [
    {
     "name": "stdout",
     "output_type": "stream",
     "text": [
      "(60000,)\n"
     ]
    }
   ],
   "source": [
    "print(y_train.shape)"
   ]
  },
  {
   "cell_type": "code",
   "execution_count": 6,
   "id": "aa1b523c",
   "metadata": {},
   "outputs": [],
   "source": [
    "x_train = x_train.reshape(x_train.shape[0], 28*28)\n",
    "x_test = x_test2.reshape(x_test2.shape[0], 28*28)"
   ]
  },
  {
   "cell_type": "code",
   "execution_count": 7,
   "id": "6d390e03",
   "metadata": {},
   "outputs": [],
   "source": [
    "y_test = tf.keras.utils.to_categorical(y_test, nb_classes)\n",
    "y_train = tf.keras.utils.to_categorical(y_train, nb_classes)"
   ]
  },
  {
   "cell_type": "code",
   "execution_count": 8,
   "id": "a25814c9",
   "metadata": {},
   "outputs": [
    {
     "name": "stdout",
     "output_type": "stream",
     "text": [
      "10\n"
     ]
    }
   ],
   "source": [
    "print(nb_classes) #y_train 개수"
   ]
  },
  {
   "cell_type": "markdown",
   "id": "0dda003b",
   "metadata": {},
   "source": [
    "### 층을 여러개 만들기"
   ]
  },
  {
   "cell_type": "code",
   "execution_count": 21,
   "id": "f6c1c4d5",
   "metadata": {},
   "outputs": [],
   "source": [
    "def model_fn(a_layer=None):\n",
    "    tf.model = tf.keras.Sequential() #신경 심층망 만들기\n",
    "    tf.model.add(tf.keras.layers.Dense(input_dim = 784, units = 256, activation = 'relu'))\n",
    "    \n",
    "    if a_layer : #은닉층 하나 추가하기\n",
    "        tf.model.add(a_layer)\n",
    "    tf.model.add(tf.keras.layers.Dense(units = nb_classes,activation= 'softmax'))\n",
    "    return tf.model"
   ]
  },
  {
   "cell_type": "code",
   "execution_count": 22,
   "id": "1f3bcb2f",
   "metadata": {},
   "outputs": [],
   "source": [
    "tf.model = model_fn(tf.keras.layers.Dense(units = 256, activation = 'relu'))"
   ]
  },
  {
   "cell_type": "code",
   "execution_count": 25,
   "id": "5a241388",
   "metadata": {},
   "outputs": [
    {
     "name": "stderr",
     "output_type": "stream",
     "text": [
      "C:\\Users\\queenSSH\\anaconda3\\envs\\sshstudy\\lib\\site-packages\\keras\\optimizer_v2\\optimizer_v2.py:355: UserWarning: The `lr` argument is deprecated, use `learning_rate` instead.\n",
      "  warnings.warn(\n"
     ]
    }
   ],
   "source": [
    "# tf.model = tf.keras.Sequential()\n",
    "# tf.model.add(tf.keras.layers.Dense(input_dim = 784, units = 256, activation = 'relu'))\n",
    "# tf.model.add(tf.keras.layers.Dense(units =256, activation = 'relu'))\n",
    "# tf.model.add(tf.keras.layers.Dense(units = nb_classes, activation = 'softmax'))\n",
    "\n",
    "tf.model.compile(loss = 'categorical_crossentropy', optimizer = tf.keras.optimizers.Adam(lr=learning_rate), metrics = ['accuracy'])"
   ]
  },
  {
   "cell_type": "code",
   "execution_count": 26,
   "id": "1bb61cf6",
   "metadata": {},
   "outputs": [
    {
     "name": "stdout",
     "output_type": "stream",
     "text": [
      "Model: \"sequential_3\"\n",
      "_________________________________________________________________\n",
      "Layer (type)                 Output Shape              Param #   \n",
      "=================================================================\n",
      "dense_5 (Dense)              (None, 256)               200960    \n",
      "_________________________________________________________________\n",
      "dense_4 (Dense)              (None, 256)               65792     \n",
      "_________________________________________________________________\n",
      "dense_6 (Dense)              (None, 10)                2570      \n",
      "=================================================================\n",
      "Total params: 269,322\n",
      "Trainable params: 269,322\n",
      "Non-trainable params: 0\n",
      "_________________________________________________________________\n"
     ]
    }
   ],
   "source": [
    "tf.model.summary()"
   ]
  },
  {
   "cell_type": "markdown",
   "id": "247cc39d",
   "metadata": {},
   "source": [
    "✔ batch_size: Integer or `None`.\n",
    "\n",
    "        Number of samples per gradient update.\n",
    "        \n",
    "        If unspecified, `batch_size` will default to 32.\n",
    "        \n",
    "        Do not specify the `batch_size` if your data is in the\n",
    "        \n",
    "        form of datasets, generators, or `keras.utils.Sequence` instances\n",
    "        \n",
    "        (since they generate batches)."
   ]
  },
  {
   "cell_type": "code",
   "execution_count": 28,
   "id": "aecaa553",
   "metadata": {
    "scrolled": true
   },
   "outputs": [
    {
     "name": "stdout",
     "output_type": "stream",
     "text": [
      "Epoch 1/15\n",
      "600/600 [==============================] - 1s 1ms/step - loss: 0.4086 - accuracy: 0.9468\n",
      "Epoch 2/15\n",
      "600/600 [==============================] - 1s 1ms/step - loss: 0.2252 - accuracy: 0.9614\n",
      "Epoch 3/15\n",
      "600/600 [==============================] - 1s 1ms/step - loss: 0.1863 - accuracy: 0.9659\n",
      "Epoch 4/15\n",
      "600/600 [==============================] - 1s 1ms/step - loss: 0.1533 - accuracy: 0.9692\n",
      "Epoch 5/15\n",
      "600/600 [==============================] - 1s 1ms/step - loss: 0.1179 - accuracy: 0.9741\n",
      "Epoch 6/15\n",
      "600/600 [==============================] - 1s 1ms/step - loss: 0.1020 - accuracy: 0.9750\n",
      "Epoch 7/15\n",
      "600/600 [==============================] - 1s 1ms/step - loss: 0.0987 - accuracy: 0.9765\n",
      "Epoch 8/15\n",
      "600/600 [==============================] - 1s 1ms/step - loss: 0.0919 - accuracy: 0.9771\n",
      "Epoch 9/15\n",
      "600/600 [==============================] - 1s 1ms/step - loss: 0.0811 - accuracy: 0.9794\n",
      "Epoch 10/15\n",
      "600/600 [==============================] - 1s 1ms/step - loss: 0.0787 - accuracy: 0.9801\n",
      "Epoch 11/15\n",
      "600/600 [==============================] - 1s 1ms/step - loss: 0.0804 - accuracy: 0.9794\n",
      "Epoch 12/15\n",
      "600/600 [==============================] - 1s 1ms/step - loss: 0.0781 - accuracy: 0.9802\n",
      "Epoch 13/15\n",
      "600/600 [==============================] - 1s 1ms/step - loss: 0.0760 - accuracy: 0.9806\n",
      "Epoch 14/15\n",
      "600/600 [==============================] - 1s 1ms/step - loss: 0.0675 - accuracy: 0.9827\n",
      "Epoch 15/15\n",
      "600/600 [==============================] - 1s 1ms/step - loss: 0.0666 - accuracy: 0.9835\n"
     ]
    },
    {
     "data": {
      "text/plain": [
       "<keras.callbacks.History at 0x1e4f25f5be0>"
      ]
     },
     "execution_count": 28,
     "metadata": {},
     "output_type": "execute_result"
    }
   ],
   "source": [
    "tf.model.fit(x_train, y_train, batch_size = batch_size, epochs = training_epochs)"
   ]
  },
  {
   "cell_type": "code",
   "execution_count": 29,
   "id": "0f640029",
   "metadata": {},
   "outputs": [
    {
     "name": "stdout",
     "output_type": "stream",
     "text": [
      "(10000, 784)\n"
     ]
    }
   ],
   "source": [
    "print(x_test.shape)"
   ]
  },
  {
   "cell_type": "code",
   "execution_count": 30,
   "id": "1774041d",
   "metadata": {},
   "outputs": [
    {
     "name": "stdout",
     "output_type": "stream",
     "text": [
      "index :  3757 actual y:  8 predicted y: 8\n",
      "index :  7304 actual y:  5 predicted y: 5\n",
      "index :  7300 actual y:  7 predicted y: 7\n",
      "index :  6039 actual y:  9 predicted y: 9\n",
      "index :  9429 actual y:  3 predicted y: 3\n",
      "index :  4420 actual y:  5 predicted y: 5\n",
      "index :  5507 actual y:  2 predicted y: 2\n",
      "index :  8809 actual y:  1 predicted y: 1\n",
      "index :  654 actual y:  5 predicted y: 5\n",
      "index :  7302 actual y:  8 predicted y: 8\n"
     ]
    }
   ],
   "source": [
    "# predict 10 random hand-writing data\n",
    "y_predicted = tf.model.predict(x_test)\n",
    "\n",
    "for x in range(0,10): #0~9\n",
    "    random_index = random.randint(0, x_test.shape[0]-1)\n",
    "    print('index : ', random_index,\n",
    "         'actual y: ', np.argmax(y_test[random_index]),\n",
    "          'predicted y:', np.argmax(y_predicted[random_index])      \n",
    "         )"
   ]
  },
  {
   "cell_type": "code",
   "execution_count": 32,
   "id": "d378ac38",
   "metadata": {},
   "outputs": [
    {
     "name": "stdout",
     "output_type": "stream",
     "text": [
      "313/313 [==============================] - 0s 552us/step - loss: 0.1672 - accuracy: 0.9686\n",
      "loss: 0.16719254851341248\n",
      "accuracy:  0.9685999751091003\n"
     ]
    }
   ],
   "source": [
    "evaluation = tf.model.evaluate(x_test, y_test)\n",
    "print('loss:' , evaluation[0])\n",
    "print('accuracy: ', evaluation[1])"
   ]
  }
 ],
 "metadata": {
  "kernelspec": {
   "display_name": "Python [conda env:sshstudy] *",
   "language": "python",
   "name": "conda-env-sshstudy-py"
  },
  "language_info": {
   "codemirror_mode": {
    "name": "ipython",
    "version": 3
   },
   "file_extension": ".py",
   "mimetype": "text/x-python",
   "name": "python",
   "nbconvert_exporter": "python",
   "pygments_lexer": "ipython3",
   "version": "3.8.11"
  }
 },
 "nbformat": 4,
 "nbformat_minor": 5
}
