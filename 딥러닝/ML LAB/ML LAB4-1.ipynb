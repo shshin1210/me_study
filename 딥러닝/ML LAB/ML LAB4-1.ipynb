{
 "cells": [
  {
   "cell_type": "markdown",
   "id": "e5b595aa",
   "metadata": {},
   "source": [
    "## Sequential 모델을 쓰는 이유\n",
    "\n",
    "Sequential 모델은 각 레이어에 정확히 하나의 입력 텐서와 하나의 출력 텐서가 있는 일반 레이어 스택에 적합합니다."
   ]
  },
  {
   "cell_type": "markdown",
   "id": "a987e2c4",
   "metadata": {},
   "source": [
    "Sequential 모델은 다음의 경우에 적합하지 않습니다.\n",
    "\n",
    "1. 모델에 다중 입력 또는 다중 출력이 있습니다\n",
    "\n",
    "2. 레이어에 다중 입력 또는 다중 출력이 있습니다\n",
    "\n",
    "3. 레이어 공유를 해야 합니다\n",
    "\n",
    "4. 비선형 토폴로지를 원합니다(예: 잔류 연결, 다중 분기 모델)"
   ]
  },
  {
   "cell_type": "code",
   "execution_count": 1,
   "id": "ab062842",
   "metadata": {},
   "outputs": [],
   "source": [
    "# Lab 4 Multi-variable linear regression\n",
    "import tensorflow as tf\n",
    "import numpy as np"
   ]
  },
  {
   "cell_type": "code",
   "execution_count": 2,
   "id": "096f34fc",
   "metadata": {},
   "outputs": [],
   "source": [
    "#2차원 5행 3열\n",
    "x_data = [[73., 80., 75.],\n",
    "          [93., 88., 93.],\n",
    "          [89., 91., 90.],\n",
    "          [96., 98., 100.],\n",
    "          [73., 66., 70.]]\n",
    "y_data = [[152.],\n",
    "          [185.],\n",
    "          [180.],\n",
    "          [196.],\n",
    "          [142.]]"
   ]
  },
  {
   "cell_type": "markdown",
   "id": "884e910e",
   "metadata": {},
   "source": [
    "Sequential 모델을 불러온다"
   ]
  },
  {
   "cell_type": "code",
   "execution_count": 3,
   "id": "7e3ecfda",
   "metadata": {},
   "outputs": [],
   "source": [
    "tf.model =  tf.keras.Sequential()"
   ]
  },
  {
   "cell_type": "code",
   "execution_count": 4,
   "id": "8ec27087",
   "metadata": {},
   "outputs": [],
   "source": [
    "# input_dim=3 gives multi-variable regression\n",
    "tf.model.add(tf.keras.layers.Dense(units =1, input_dim = 3))\n",
    "\n",
    "# this line can be omitted, as linear activation is default\n",
    "tf.model.add(tf.keras.layers.Activation('linear'))"
   ]
  },
  {
   "cell_type": "code",
   "execution_count": 5,
   "id": "6146304b",
   "metadata": {},
   "outputs": [],
   "source": [
    "import warnings\n",
    "warnings.filterwarnings('ignore')\n",
    "\n",
    "tf.model.compile(loss = 'mse', optimizer = tf.keras.optimizers.SGD(lr=1e-5))"
   ]
  },
  {
   "cell_type": "markdown",
   "id": "3714a6d4",
   "metadata": {},
   "source": [
    "shape이 (None, _)인 이유는 행을 추가할 수도 있기 때문!"
   ]
  },
  {
   "cell_type": "code",
   "execution_count": 6,
   "id": "be335d44",
   "metadata": {},
   "outputs": [
    {
     "name": "stdout",
     "output_type": "stream",
     "text": [
      "Model: \"sequential\"\n",
      "_________________________________________________________________\n",
      "Layer (type)                 Output Shape              Param #   \n",
      "=================================================================\n",
      "dense (Dense)                (None, 1)                 4         \n",
      "_________________________________________________________________\n",
      "activation (Activation)      (None, 1)                 0         \n",
      "=================================================================\n",
      "Total params: 4\n",
      "Trainable params: 4\n",
      "Non-trainable params: 0\n",
      "_________________________________________________________________\n"
     ]
    }
   ],
   "source": [
    "tf.model.summary()"
   ]
  },
  {
   "cell_type": "code",
   "execution_count": 7,
   "id": "ff28be4b",
   "metadata": {
    "scrolled": true
   },
   "outputs": [
    {
     "name": "stdout",
     "output_type": "stream",
     "text": [
      "Epoch 1/100\n",
      "1/1 [==============================] - 0s 170ms/step - loss: 38743.6641\n",
      "Epoch 2/100\n",
      "1/1 [==============================] - 0s 997us/step - loss: 12159.2148\n",
      "Epoch 3/100\n",
      "1/1 [==============================] - 0s 3ms/step - loss: 3826.3945\n",
      "Epoch 4/100\n",
      "1/1 [==============================] - 0s 2ms/step - loss: 1214.4884\n",
      "Epoch 5/100\n",
      "1/1 [==============================] - 0s 2ms/step - loss: 395.7870\n",
      "Epoch 6/100\n",
      "1/1 [==============================] - 0s 2ms/step - loss: 139.1591\n",
      "Epoch 7/100\n",
      "1/1 [==============================] - 0s 2ms/step - loss: 58.7116\n",
      "Epoch 8/100\n",
      "1/1 [==============================] - 0s 2ms/step - loss: 33.4878\n",
      "Epoch 9/100\n",
      "1/1 [==============================] - 0s 2ms/step - loss: 25.5732\n",
      "Epoch 10/100\n",
      "1/1 [==============================] - 0s 2ms/step - loss: 23.0844\n",
      "Epoch 11/100\n",
      "1/1 [==============================] - 0s 2ms/step - loss: 22.2962\n",
      "Epoch 12/100\n",
      "1/1 [==============================] - 0s 2ms/step - loss: 22.0410\n",
      "Epoch 13/100\n",
      "1/1 [==============================] - 0s 2ms/step - loss: 21.9530\n",
      "Epoch 14/100\n",
      "1/1 [==============================] - 0s 3ms/step - loss: 21.9173\n",
      "Epoch 15/100\n",
      "1/1 [==============================] - 0s 2ms/step - loss: 21.8980\n",
      "Epoch 16/100\n",
      "1/1 [==============================] - 0s 2ms/step - loss: 21.8839\n",
      "Epoch 17/100\n",
      "1/1 [==============================] - 0s 996us/step - loss: 21.8714\n",
      "Epoch 18/100\n",
      "1/1 [==============================] - 0s 2ms/step - loss: 21.8595\n",
      "Epoch 19/100\n",
      "1/1 [==============================] - 0s 2ms/step - loss: 21.8476\n",
      "Epoch 20/100\n",
      "1/1 [==============================] - 0s 2ms/step - loss: 21.8359\n",
      "Epoch 21/100\n",
      "1/1 [==============================] - 0s 2ms/step - loss: 21.8241\n",
      "Epoch 22/100\n",
      "1/1 [==============================] - 0s 2ms/step - loss: 21.8124\n",
      "Epoch 23/100\n",
      "1/1 [==============================] - 0s 2ms/step - loss: 21.8007\n",
      "Epoch 24/100\n",
      "1/1 [==============================] - 0s 3ms/step - loss: 21.7889\n",
      "Epoch 25/100\n",
      "1/1 [==============================] - 0s 2ms/step - loss: 21.7773\n",
      "Epoch 26/100\n",
      "1/1 [==============================] - 0s 2ms/step - loss: 21.7656\n",
      "Epoch 27/100\n",
      "1/1 [==============================] - 0s 3ms/step - loss: 21.7539\n",
      "Epoch 28/100\n",
      "1/1 [==============================] - 0s 2ms/step - loss: 21.7422\n",
      "Epoch 29/100\n",
      "1/1 [==============================] - 0s 996us/step - loss: 21.7306\n",
      "Epoch 30/100\n",
      "1/1 [==============================] - 0s 2ms/step - loss: 21.7189\n",
      "Epoch 31/100\n",
      "1/1 [==============================] - 0s 3ms/step - loss: 21.7072\n",
      "Epoch 32/100\n",
      "1/1 [==============================] - 0s 2ms/step - loss: 21.6955\n",
      "Epoch 33/100\n",
      "1/1 [==============================] - 0s 2ms/step - loss: 21.6838\n",
      "Epoch 34/100\n",
      "1/1 [==============================] - 0s 2ms/step - loss: 21.6722\n",
      "Epoch 35/100\n",
      "1/1 [==============================] - 0s 2ms/step - loss: 21.6606\n",
      "Epoch 36/100\n",
      "1/1 [==============================] - 0s 997us/step - loss: 21.6489\n",
      "Epoch 37/100\n",
      "1/1 [==============================] - 0s 2ms/step - loss: 21.6373\n",
      "Epoch 38/100\n",
      "1/1 [==============================] - 0s 3ms/step - loss: 21.6257\n",
      "Epoch 39/100\n",
      "1/1 [==============================] - 0s 998us/step - loss: 21.6141\n",
      "Epoch 40/100\n",
      "1/1 [==============================] - 0s 2ms/step - loss: 21.6024\n",
      "Epoch 41/100\n",
      "1/1 [==============================] - 0s 2ms/step - loss: 21.5908\n",
      "Epoch 42/100\n",
      "1/1 [==============================] - 0s 2ms/step - loss: 21.5792\n",
      "Epoch 43/100\n",
      "1/1 [==============================] - 0s 998us/step - loss: 21.5677\n",
      "Epoch 44/100\n",
      "1/1 [==============================] - 0s 2ms/step - loss: 21.5561\n",
      "Epoch 45/100\n",
      "1/1 [==============================] - 0s 2ms/step - loss: 21.5445\n",
      "Epoch 46/100\n",
      "1/1 [==============================] - 0s 2ms/step - loss: 21.5330\n",
      "Epoch 47/100\n",
      "1/1 [==============================] - 0s 2ms/step - loss: 21.5214\n",
      "Epoch 48/100\n",
      "1/1 [==============================] - 0s 2ms/step - loss: 21.5098\n",
      "Epoch 49/100\n",
      "1/1 [==============================] - 0s 2ms/step - loss: 21.4983\n",
      "Epoch 50/100\n",
      "1/1 [==============================] - 0s 2ms/step - loss: 21.4867\n",
      "Epoch 51/100\n",
      "1/1 [==============================] - 0s 998us/step - loss: 21.4752\n",
      "Epoch 52/100\n",
      "1/1 [==============================] - 0s 2ms/step - loss: 21.4637\n",
      "Epoch 53/100\n",
      "1/1 [==============================] - 0s 2ms/step - loss: 21.4521\n",
      "Epoch 54/100\n",
      "1/1 [==============================] - 0s 2ms/step - loss: 21.4406\n",
      "Epoch 55/100\n",
      "1/1 [==============================] - 0s 2ms/step - loss: 21.4291\n",
      "Epoch 56/100\n",
      "1/1 [==============================] - 0s 2ms/step - loss: 21.4176\n",
      "Epoch 57/100\n",
      "1/1 [==============================] - 0s 2ms/step - loss: 21.4060\n",
      "Epoch 58/100\n",
      "1/1 [==============================] - 0s 997us/step - loss: 21.3946\n",
      "Epoch 59/100\n",
      "1/1 [==============================] - 0s 2ms/step - loss: 21.3831\n",
      "Epoch 60/100\n",
      "1/1 [==============================] - 0s 2ms/step - loss: 21.3716\n",
      "Epoch 61/100\n",
      "1/1 [==============================] - 0s 2ms/step - loss: 21.3601\n",
      "Epoch 62/100\n",
      "1/1 [==============================] - 0s 2ms/step - loss: 21.3487\n",
      "Epoch 63/100\n",
      "1/1 [==============================] - 0s 2ms/step - loss: 21.3372\n",
      "Epoch 64/100\n",
      "1/1 [==============================] - 0s 2ms/step - loss: 21.3257\n",
      "Epoch 65/100\n",
      "1/1 [==============================] - 0s 2ms/step - loss: 21.3142\n",
      "Epoch 66/100\n",
      "1/1 [==============================] - 0s 2ms/step - loss: 21.3028\n",
      "Epoch 67/100\n",
      "1/1 [==============================] - 0s 2ms/step - loss: 21.2914\n",
      "Epoch 68/100\n",
      "1/1 [==============================] - 0s 2ms/step - loss: 21.2799\n",
      "Epoch 69/100\n",
      "1/1 [==============================] - 0s 2ms/step - loss: 21.2685\n",
      "Epoch 70/100\n",
      "1/1 [==============================] - 0s 2ms/step - loss: 21.2571\n",
      "Epoch 71/100\n",
      "1/1 [==============================] - 0s 2ms/step - loss: 21.2457\n",
      "Epoch 72/100\n",
      "1/1 [==============================] - 0s 2ms/step - loss: 21.2343\n",
      "Epoch 73/100\n",
      "1/1 [==============================] - 0s 2ms/step - loss: 21.2229\n",
      "Epoch 74/100\n",
      "1/1 [==============================] - 0s 2ms/step - loss: 21.2114\n",
      "Epoch 75/100\n",
      "1/1 [==============================] - 0s 2ms/step - loss: 21.2001\n",
      "Epoch 76/100\n",
      "1/1 [==============================] - 0s 2ms/step - loss: 21.1887\n",
      "Epoch 77/100\n",
      "1/1 [==============================] - 0s 2ms/step - loss: 21.1773\n",
      "Epoch 78/100\n",
      "1/1 [==============================] - 0s 2ms/step - loss: 21.1659\n",
      "Epoch 79/100\n",
      "1/1 [==============================] - 0s 2ms/step - loss: 21.1546\n",
      "Epoch 80/100\n",
      "1/1 [==============================] - 0s 2ms/step - loss: 21.1432\n",
      "Epoch 81/100\n",
      "1/1 [==============================] - 0s 998us/step - loss: 21.1318\n",
      "Epoch 82/100\n",
      "1/1 [==============================] - 0s 2ms/step - loss: 21.1205\n",
      "Epoch 83/100\n",
      "1/1 [==============================] - 0s 2ms/step - loss: 21.1092\n",
      "Epoch 84/100\n",
      "1/1 [==============================] - 0s 2ms/step - loss: 21.0978\n",
      "Epoch 85/100\n",
      "1/1 [==============================] - 0s 2ms/step - loss: 21.0865\n",
      "Epoch 86/100\n",
      "1/1 [==============================] - 0s 3ms/step - loss: 21.0752\n",
      "Epoch 87/100\n",
      "1/1 [==============================] - 0s 2ms/step - loss: 21.0638\n",
      "Epoch 88/100\n",
      "1/1 [==============================] - 0s 2ms/step - loss: 21.0526\n",
      "Epoch 89/100\n",
      "1/1 [==============================] - 0s 3ms/step - loss: 21.0412\n",
      "Epoch 90/100\n",
      "1/1 [==============================] - 0s 2ms/step - loss: 21.0300\n",
      "Epoch 91/100\n",
      "1/1 [==============================] - 0s 2ms/step - loss: 21.0187\n",
      "Epoch 92/100\n",
      "1/1 [==============================] - 0s 2ms/step - loss: 21.0074\n",
      "Epoch 93/100\n",
      "1/1 [==============================] - 0s 2ms/step - loss: 20.9961\n",
      "Epoch 94/100\n",
      "1/1 [==============================] - 0s 2ms/step - loss: 20.9848\n",
      "Epoch 95/100\n",
      "1/1 [==============================] - 0s 2ms/step - loss: 20.9735\n",
      "Epoch 96/100\n",
      "1/1 [==============================] - 0s 2ms/step - loss: 20.9623\n",
      "Epoch 97/100\n",
      "1/1 [==============================] - 0s 2ms/step - loss: 20.9510\n",
      "Epoch 98/100\n",
      "1/1 [==============================] - 0s 2ms/step - loss: 20.9398\n",
      "Epoch 99/100\n",
      "1/1 [==============================] - 0s 2ms/step - loss: 20.9285\n",
      "Epoch 100/100\n",
      "1/1 [==============================] - 0s 2ms/step - loss: 20.9173\n"
     ]
    }
   ],
   "source": [
    "history = tf.model.fit(x_data, y_data, epochs = 100)"
   ]
  },
  {
   "cell_type": "code",
   "execution_count": 8,
   "id": "11fa0523",
   "metadata": {},
   "outputs": [
    {
     "name": "stdout",
     "output_type": "stream",
     "text": [
      "[[181.76186]]\n"
     ]
    }
   ],
   "source": [
    "y_predict = tf.model.predict(np.array([[72.,93.,90.]]))\n",
    "print(y_predict)"
   ]
  },
  {
   "cell_type": "code",
   "execution_count": null,
   "id": "cc144b22",
   "metadata": {},
   "outputs": [],
   "source": []
  }
 ],
 "metadata": {
  "kernelspec": {
   "display_name": "Python [conda env:sshstudy] *",
   "language": "python",
   "name": "conda-env-sshstudy-py"
  },
  "language_info": {
   "codemirror_mode": {
    "name": "ipython",
    "version": 3
   },
   "file_extension": ".py",
   "mimetype": "text/x-python",
   "name": "python",
   "nbconvert_exporter": "python",
   "pygments_lexer": "ipython3",
   "version": "3.8.11"
  }
 },
 "nbformat": 4,
 "nbformat_minor": 5
}
