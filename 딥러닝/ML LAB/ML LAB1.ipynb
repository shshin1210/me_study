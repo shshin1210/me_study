{
 "cells": [
  {
   "cell_type": "markdown",
   "metadata": {},
   "source": [
    "## TensorFlow\n",
    "\n",
    "TensorFlow is an open source software library for numerical computation using data flow graphs\n",
    "(data fow graphs를 이용하여 numerical 계산을 하는 library)\n",
    "\n",
    "using python!"
   ]
  },
  {
   "cell_type": "markdown",
   "metadata": {},
   "source": [
    "### What is a Data Flow Graph?\n",
    "\n",
    "Nodes in the graph represent mathematical operations\n",
    "\n",
    "Edges represent the multidimensional data arrays(tensors) communicated between them (Edge = Data)"
   ]
  },
  {
   "cell_type": "code",
   "execution_count": 8,
   "metadata": {},
   "outputs": [
    {
     "name": "stdout",
     "output_type": "stream",
     "text": [
      "(25, 3) [[ 73.  80.  75.]\n",
      " [ 93.  88.  93.]\n",
      " [ 89.  91.  90.]\n",
      " [ 96.  98. 100.]\n",
      " [ 73.  66.  70.]\n",
      " [ 53.  46.  55.]\n",
      " [ 69.  74.  77.]\n",
      " [ 47.  56.  60.]\n",
      " [ 87.  79.  90.]\n",
      " [ 79.  70.  88.]\n",
      " [ 69.  70.  73.]\n",
      " [ 70.  65.  74.]\n",
      " [ 93.  95.  91.]\n",
      " [ 79.  80.  73.]\n",
      " [ 70.  73.  78.]\n",
      " [ 93.  89.  96.]\n",
      " [ 78.  75.  68.]\n",
      " [ 81.  90.  93.]\n",
      " [ 88.  92.  86.]\n",
      " [ 78.  83.  77.]\n",
      " [ 82.  86.  90.]\n",
      " [ 86.  82.  89.]\n",
      " [ 78.  83.  85.]\n",
      " [ 76.  83.  71.]\n",
      " [ 96.  93.  95.]] 25\n",
      "(25, 1) [[152.]\n",
      " [185.]\n",
      " [180.]\n",
      " [196.]\n",
      " [142.]\n",
      " [101.]\n",
      " [149.]\n",
      " [115.]\n",
      " [175.]\n",
      " [164.]\n",
      " [141.]\n",
      " [141.]\n",
      " [184.]\n",
      " [152.]\n",
      " [148.]\n",
      " [192.]\n",
      " [147.]\n",
      " [183.]\n",
      " [177.]\n",
      " [159.]\n",
      " [177.]\n",
      " [175.]\n",
      " [175.]\n",
      " [149.]\n",
      " [192.]]\n"
     ]
    }
   ],
   "source": [
    "import numpy as np\n",
    "\n",
    "#delimiter는 ',' 로 구분지을 것이라는 뜻\n",
    "xy = np.loadtxt('data-01-test-score.csv', delimiter =',', dtype = np.float32)\n",
    "\n",
    "x_data = xy[:, 0:-1]\n",
    "#target data 인 y_data는 마지막 열\n",
    "y_data = xy[:,[-1]]\n",
    "\n",
    "#makeing sure the shape and data are OK\n",
    "print(x_data.shape, x_data, len(x_data))\n",
    "print(y_data.shape, y_data)"
   ]
  },
  {
   "cell_type": "code",
   "execution_count": 9,
   "metadata": {},
   "outputs": [
    {
     "data": {
      "text/plain": [
       "'2.6.0'"
      ]
     },
     "execution_count": 9,
     "metadata": {},
     "output_type": "execute_result"
    }
   ],
   "source": [
    "import tensorflow as tf\n",
    "\n",
    "tf.__version__"
   ]
  },
  {
   "cell_type": "code",
   "execution_count": 10,
   "metadata": {},
   "outputs": [
    {
     "name": "stdout",
     "output_type": "stream",
     "text": [
      "hello, TensorFlow!\r\n"
     ]
    }
   ],
   "source": [
    "#Create a constant op\n",
    "#This op is added as a node to the defaullt graph\n",
    "\n",
    "hello = tf.constant('hello, TensorFlow!')\n",
    "\n",
    "tf.print(hello)"
   ]
  },
  {
   "cell_type": "markdown",
   "metadata": {},
   "source": [
    "### TensorFlow Mechanics \n",
    "\n",
    "1. Build graph using TensorFlow operations\n",
    "\n",
    "2. tf.print ( no run needed now )\n",
    "\n",
    "3. update variables in the graph (and return values)"
   ]
  },
  {
   "cell_type": "markdown",
   "metadata": {},
   "source": [
    "### Computational Graph"
   ]
  },
  {
   "cell_type": "code",
   "execution_count": 19,
   "metadata": {},
   "outputs": [],
   "source": [
    "node1 = tf.constant(3.0, tf.float32)\n",
    "node2 = tf.constant(4.0, tf.float32)\n",
    "node3 = tf.add(node1,node2)"
   ]
  },
  {
   "cell_type": "code",
   "execution_count": 20,
   "metadata": {},
   "outputs": [
    {
     "name": "stdout",
     "output_type": "stream",
     "text": [
      "node1: tf.Tensor(3.0, shape=(), dtype=float32) node2: tf.Tensor(4.0, shape=(), dtype=float32)\n",
      "node3 tf.Tensor(7.0, shape=(), dtype=float32)\n"
     ]
    }
   ],
   "source": [
    "print('node1:' , node1, 'node2:', node2)\n",
    "print('node3', node3)"
   ]
  },
  {
   "cell_type": "code",
   "execution_count": 32,
   "metadata": {},
   "outputs": [
    {
     "name": "stdout",
     "output_type": "stream",
     "text": [
      "(node1, node2):  [3, 4]\n",
      "(node3) : 7\n"
     ]
    }
   ],
   "source": [
    "tf.print('(node1, node2): ', ([node1,node2]))\n",
    "tf.print('(node3) : %d' %node3)"
   ]
  },
  {
   "cell_type": "markdown",
   "metadata": {},
   "source": [
    "### @tf.fuction "
   ]
  },
  {
   "cell_type": "code",
   "execution_count": 34,
   "metadata": {},
   "outputs": [
    {
     "name": "stdout",
     "output_type": "stream",
     "text": [
      "3\r\n"
     ]
    }
   ],
   "source": [
    "@tf.function\n",
    "def adder(a,b):\n",
    "    return a+b\n",
    "\n",
    "A = tf.constant(1)\n",
    "B = tf.constant(2)\n",
    "\n",
    "tf.print(adder(A,B))"
   ]
  },
  {
   "cell_type": "markdown",
   "metadata": {},
   "source": [
    "### Everything is Tensor (Tensors are arrays)"
   ]
  },
  {
   "cell_type": "code",
   "execution_count": 35,
   "metadata": {},
   "outputs": [
    {
     "data": {
      "text/plain": [
       "[[[1.0, 2.0, 3.0]], [[7.0, 8.0, 9.0]]]"
      ]
     },
     "execution_count": 35,
     "metadata": {},
     "output_type": "execute_result"
    }
   ],
   "source": [
    "3 # a rank 0 tensor; this is a scaer with shape []\n",
    "\n",
    "[1.,2.,3.] # a rank 1 tensor; this is a vector with shape [3]\n",
    "[[1.,2.,3.], [4.,5.,6.]] # a rank 2 tensor; a matrix with shape [2,3]\n",
    "[[[1.,2.,3.]], [[7.,8.,9.]]] # a rank 3 tensor with shape [2,1,3]"
   ]
  },
  {
   "cell_type": "markdown",
   "metadata": {},
   "source": [
    "#### Tensor Ranks, Shapes, and Types"
   ]
  },
  {
   "cell_type": "markdown",
   "metadata": {},
   "source": [
    "1차원 rank = 1, 2차원, rank = 2 \n",
    "\n",
    "Shape : element들이 몇개씩 들어있는지\n",
    "\n",
    "Types : float32 is usual"
   ]
  }
 ],
 "metadata": {
  "interpreter": {
   "hash": "2b63f107b256a960b9a52a2020c02dda7cd8b5cdfefe8ac1f94ba8840b348ee4"
  },
  "kernelspec": {
   "display_name": "Python [conda env:sshstudy] *",
   "language": "python",
   "name": "conda-env-sshstudy-py"
  },
  "language_info": {
   "codemirror_mode": {
    "name": "ipython",
    "version": 3
   },
   "file_extension": ".py",
   "mimetype": "text/x-python",
   "name": "python",
   "nbconvert_exporter": "python",
   "pygments_lexer": "ipython3",
   "version": "3.8.11"
  }
 },
 "nbformat": 4,
 "nbformat_minor": 4
}
