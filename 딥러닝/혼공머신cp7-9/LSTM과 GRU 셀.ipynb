{
 "cells": [
  {
   "cell_type": "markdown",
   "id": "496ff199",
   "metadata": {},
   "source": [
    "## LSTM 신경망 훈련하기"
   ]
  },
  {
   "cell_type": "code",
   "execution_count": 2,
   "id": "d615e066",
   "metadata": {},
   "outputs": [],
   "source": [
    "from tensorflow.keras.datasets import imdb\n",
    "from sklearn.model_selection import train_test_split\n",
    "(train_input, train_target), (test_input, test_target) = imdb.load_data(num_words = 500)\n",
    "train_input, val_input, train_target, val_target = train_test_split(train_input,\n",
    "    train_target, test_size = 0.2, random_state = 42)"
   ]
  },
  {
   "cell_type": "markdown",
   "id": "ecc854c8",
   "metadata": {},
   "source": [
    "#### padding으로 샘플 길이 100으로 맞추기"
   ]
  },
  {
   "cell_type": "code",
   "execution_count": 3,
   "id": "cd7c2b22",
   "metadata": {},
   "outputs": [],
   "source": [
    "from tensorflow.keras.preprocessing.sequence import pad_sequences\n",
    "train_seq = pad_sequences(train_input, maxlen= 100)\n",
    "val_seq = pad_sequences(val_input, maxlen = 100)"
   ]
  },
  {
   "cell_type": "markdown",
   "id": "c9bbe314",
   "metadata": {},
   "source": [
    "### LSTM 셀을 이용한 순환층"
   ]
  },
  {
   "cell_type": "code",
   "execution_count": 4,
   "id": "521e9bef",
   "metadata": {},
   "outputs": [],
   "source": [
    "from tensorflow import keras\n",
    "model = keras.Sequential()\n",
    "model.add(keras.layers.Embedding(500, 16, input_length = 100))\n",
    "model.add(keras.layers.LSTM(8)) #8개의 뉴런\n",
    "model.add(keras.layers.Dense(1, activation = 'sigmoid'))"
   ]
  },
  {
   "cell_type": "markdown",
   "id": "ce8f1fa6",
   "metadata": {},
   "source": [
    "LSTM에는 작은 셀이 4개가 있으므로 정확히 SimpleRNN보다 4배가 늘어 파라미터 개수 800개"
   ]
  },
  {
   "cell_type": "code",
   "execution_count": 5,
   "id": "3e0589a6",
   "metadata": {},
   "outputs": [
    {
     "name": "stdout",
     "output_type": "stream",
     "text": [
      "Model: \"sequential\"\n",
      "_________________________________________________________________\n",
      "Layer (type)                 Output Shape              Param #   \n",
      "=================================================================\n",
      "embedding (Embedding)        (None, 100, 16)           8000      \n",
      "_________________________________________________________________\n",
      "lstm (LSTM)                  (None, 8)                 800       \n",
      "_________________________________________________________________\n",
      "dense (Dense)                (None, 1)                 9         \n",
      "=================================================================\n",
      "Total params: 8,809\n",
      "Trainable params: 8,809\n",
      "Non-trainable params: 0\n",
      "_________________________________________________________________\n"
     ]
    }
   ],
   "source": [
    "model.summary()"
   ]
  },
  {
   "cell_type": "code",
   "execution_count": 6,
   "id": "516c6dcf",
   "metadata": {
    "scrolled": true
   },
   "outputs": [
    {
     "name": "stdout",
     "output_type": "stream",
     "text": [
      "Epoch 1/100\n",
      "313/313 [==============================] - 8s 19ms/step - loss: 0.6924 - accuracy: 0.5288 - val_loss: 0.6918 - val_accuracy: 0.5548\n",
      "Epoch 2/100\n",
      "313/313 [==============================] - 6s 18ms/step - loss: 0.6898 - accuracy: 0.5929 - val_loss: 0.6884 - val_accuracy: 0.6068\n",
      "Epoch 3/100\n",
      "313/313 [==============================] - 6s 18ms/step - loss: 0.6838 - accuracy: 0.6426 - val_loss: 0.6793 - val_accuracy: 0.6640\n",
      "Epoch 4/100\n",
      "313/313 [==============================] - 6s 18ms/step - loss: 0.6626 - accuracy: 0.6952 - val_loss: 0.6401 - val_accuracy: 0.7066\n",
      "Epoch 5/100\n",
      "313/313 [==============================] - 6s 18ms/step - loss: 0.6055 - accuracy: 0.7251 - val_loss: 0.5928 - val_accuracy: 0.7190\n",
      "Epoch 6/100\n",
      "313/313 [==============================] - 6s 18ms/step - loss: 0.5753 - accuracy: 0.7293 - val_loss: 0.5695 - val_accuracy: 0.7356\n",
      "Epoch 7/100\n",
      "313/313 [==============================] - 6s 18ms/step - loss: 0.5512 - accuracy: 0.7477 - val_loss: 0.5469 - val_accuracy: 0.7472\n",
      "Epoch 8/100\n",
      "313/313 [==============================] - 6s 18ms/step - loss: 0.5273 - accuracy: 0.7592 - val_loss: 0.5262 - val_accuracy: 0.7548\n",
      "Epoch 9/100\n",
      "313/313 [==============================] - 6s 18ms/step - loss: 0.5060 - accuracy: 0.7722 - val_loss: 0.5096 - val_accuracy: 0.7586\n",
      "Epoch 10/100\n",
      "313/313 [==============================] - 6s 18ms/step - loss: 0.4899 - accuracy: 0.7801 - val_loss: 0.4908 - val_accuracy: 0.7734\n",
      "Epoch 11/100\n",
      "313/313 [==============================] - 6s 18ms/step - loss: 0.4778 - accuracy: 0.7858 - val_loss: 0.4831 - val_accuracy: 0.7754\n",
      "Epoch 12/100\n",
      "313/313 [==============================] - 6s 18ms/step - loss: 0.4681 - accuracy: 0.7897 - val_loss: 0.4740 - val_accuracy: 0.7846\n",
      "Epoch 13/100\n",
      "313/313 [==============================] - 6s 18ms/step - loss: 0.4598 - accuracy: 0.7958 - val_loss: 0.4690 - val_accuracy: 0.7854\n",
      "Epoch 14/100\n",
      "313/313 [==============================] - 6s 18ms/step - loss: 0.4534 - accuracy: 0.7973 - val_loss: 0.4639 - val_accuracy: 0.7862\n",
      "Epoch 15/100\n",
      "313/313 [==============================] - 6s 18ms/step - loss: 0.4479 - accuracy: 0.8011 - val_loss: 0.4598 - val_accuracy: 0.7876\n",
      "Epoch 16/100\n",
      "313/313 [==============================] - 6s 18ms/step - loss: 0.4429 - accuracy: 0.8030 - val_loss: 0.4564 - val_accuracy: 0.7900\n",
      "Epoch 17/100\n",
      "313/313 [==============================] - 6s 18ms/step - loss: 0.4388 - accuracy: 0.8058 - val_loss: 0.4533 - val_accuracy: 0.7898\n",
      "Epoch 18/100\n",
      "313/313 [==============================] - 6s 18ms/step - loss: 0.4349 - accuracy: 0.8086 - val_loss: 0.4513 - val_accuracy: 0.7918\n",
      "Epoch 19/100\n",
      "313/313 [==============================] - 6s 18ms/step - loss: 0.4321 - accuracy: 0.8095 - val_loss: 0.4518 - val_accuracy: 0.7890\n",
      "Epoch 20/100\n",
      "313/313 [==============================] - 6s 18ms/step - loss: 0.4291 - accuracy: 0.8122 - val_loss: 0.4476 - val_accuracy: 0.7908\n",
      "Epoch 21/100\n",
      "313/313 [==============================] - 6s 18ms/step - loss: 0.4268 - accuracy: 0.8108 - val_loss: 0.4476 - val_accuracy: 0.7916\n",
      "Epoch 22/100\n",
      "313/313 [==============================] - 6s 18ms/step - loss: 0.4243 - accuracy: 0.8124 - val_loss: 0.4446 - val_accuracy: 0.7924\n",
      "Epoch 23/100\n",
      "313/313 [==============================] - 6s 18ms/step - loss: 0.4225 - accuracy: 0.8124 - val_loss: 0.4428 - val_accuracy: 0.7948\n",
      "Epoch 24/100\n",
      "313/313 [==============================] - 6s 18ms/step - loss: 0.4212 - accuracy: 0.8126 - val_loss: 0.4402 - val_accuracy: 0.7954\n",
      "Epoch 25/100\n",
      "313/313 [==============================] - 6s 18ms/step - loss: 0.4195 - accuracy: 0.8142 - val_loss: 0.4400 - val_accuracy: 0.7946\n",
      "Epoch 26/100\n",
      "313/313 [==============================] - 6s 18ms/step - loss: 0.4179 - accuracy: 0.8145 - val_loss: 0.4407 - val_accuracy: 0.7938\n",
      "Epoch 27/100\n",
      "313/313 [==============================] - 6s 18ms/step - loss: 0.4167 - accuracy: 0.8164 - val_loss: 0.4378 - val_accuracy: 0.7970\n",
      "Epoch 28/100\n",
      "313/313 [==============================] - 6s 18ms/step - loss: 0.4151 - accuracy: 0.8171 - val_loss: 0.4368 - val_accuracy: 0.7946\n",
      "Epoch 29/100\n",
      "313/313 [==============================] - 6s 18ms/step - loss: 0.4137 - accuracy: 0.8159 - val_loss: 0.4367 - val_accuracy: 0.7940\n",
      "Epoch 30/100\n",
      "313/313 [==============================] - 6s 18ms/step - loss: 0.4125 - accuracy: 0.8149 - val_loss: 0.4359 - val_accuracy: 0.7964\n",
      "Epoch 31/100\n",
      "313/313 [==============================] - 6s 18ms/step - loss: 0.4119 - accuracy: 0.8165 - val_loss: 0.4324 - val_accuracy: 0.7990\n",
      "Epoch 32/100\n",
      "313/313 [==============================] - 6s 18ms/step - loss: 0.4105 - accuracy: 0.8174 - val_loss: 0.4345 - val_accuracy: 0.7976\n",
      "Epoch 33/100\n",
      "313/313 [==============================] - 6s 18ms/step - loss: 0.4095 - accuracy: 0.8177 - val_loss: 0.4324 - val_accuracy: 0.7984\n",
      "Epoch 34/100\n",
      "313/313 [==============================] - 6s 18ms/step - loss: 0.4087 - accuracy: 0.8170 - val_loss: 0.4316 - val_accuracy: 0.7988\n",
      "Epoch 35/100\n",
      "313/313 [==============================] - 6s 18ms/step - loss: 0.4078 - accuracy: 0.8178 - val_loss: 0.4324 - val_accuracy: 0.7978\n",
      "Epoch 36/100\n",
      "313/313 [==============================] - 6s 18ms/step - loss: 0.4074 - accuracy: 0.8191 - val_loss: 0.4297 - val_accuracy: 0.7990\n",
      "Epoch 37/100\n",
      "313/313 [==============================] - 6s 18ms/step - loss: 0.4058 - accuracy: 0.8185 - val_loss: 0.4323 - val_accuracy: 0.7952\n",
      "Epoch 38/100\n",
      "313/313 [==============================] - 6s 18ms/step - loss: 0.4051 - accuracy: 0.8201 - val_loss: 0.4278 - val_accuracy: 0.8048\n",
      "Epoch 39/100\n",
      "313/313 [==============================] - 6s 18ms/step - loss: 0.4047 - accuracy: 0.8209 - val_loss: 0.4274 - val_accuracy: 0.8026\n",
      "Epoch 40/100\n",
      "313/313 [==============================] - 6s 18ms/step - loss: 0.4038 - accuracy: 0.8191 - val_loss: 0.4270 - val_accuracy: 0.8036\n",
      "Epoch 41/100\n",
      "313/313 [==============================] - 6s 18ms/step - loss: 0.4028 - accuracy: 0.8195 - val_loss: 0.4265 - val_accuracy: 0.8032\n",
      "Epoch 42/100\n",
      "313/313 [==============================] - 6s 18ms/step - loss: 0.4024 - accuracy: 0.8195 - val_loss: 0.4261 - val_accuracy: 0.8024\n",
      "Epoch 43/100\n",
      "313/313 [==============================] - 6s 18ms/step - loss: 0.4014 - accuracy: 0.8206 - val_loss: 0.4266 - val_accuracy: 0.8036\n",
      "Epoch 44/100\n",
      "313/313 [==============================] - 6s 18ms/step - loss: 0.4009 - accuracy: 0.8219 - val_loss: 0.4259 - val_accuracy: 0.8050\n",
      "Epoch 45/100\n",
      "313/313 [==============================] - 6s 18ms/step - loss: 0.3994 - accuracy: 0.8213 - val_loss: 0.4386 - val_accuracy: 0.7978\n",
      "Epoch 46/100\n",
      "313/313 [==============================] - 6s 18ms/step - loss: 0.3994 - accuracy: 0.8203 - val_loss: 0.4242 - val_accuracy: 0.8060\n",
      "Epoch 47/100\n",
      "313/313 [==============================] - 6s 18ms/step - loss: 0.3986 - accuracy: 0.8223 - val_loss: 0.4248 - val_accuracy: 0.8040\n",
      "Epoch 48/100\n",
      "313/313 [==============================] - 6s 18ms/step - loss: 0.3979 - accuracy: 0.8220 - val_loss: 0.4267 - val_accuracy: 0.7994\n",
      "Epoch 49/100\n",
      "313/313 [==============================] - 6s 18ms/step - loss: 0.3974 - accuracy: 0.8207 - val_loss: 0.4234 - val_accuracy: 0.8056\n",
      "Epoch 50/100\n",
      "313/313 [==============================] - 6s 18ms/step - loss: 0.3966 - accuracy: 0.8209 - val_loss: 0.4236 - val_accuracy: 0.8058\n",
      "Epoch 51/100\n",
      "313/313 [==============================] - 6s 18ms/step - loss: 0.3957 - accuracy: 0.8224 - val_loss: 0.4230 - val_accuracy: 0.8068\n",
      "Epoch 52/100\n",
      "313/313 [==============================] - 6s 18ms/step - loss: 0.3951 - accuracy: 0.8212 - val_loss: 0.4248 - val_accuracy: 0.8058\n",
      "Epoch 53/100\n",
      "313/313 [==============================] - 6s 18ms/step - loss: 0.3945 - accuracy: 0.8218 - val_loss: 0.4235 - val_accuracy: 0.8012\n",
      "Epoch 54/100\n",
      "313/313 [==============================] - 6s 18ms/step - loss: 0.3937 - accuracy: 0.8236 - val_loss: 0.4244 - val_accuracy: 0.8072\n"
     ]
    }
   ],
   "source": [
    "rmsprop = keras.optimizers.RMSprop(learning_rate = 1e-4)\n",
    "\n",
    "model.compile(optimizer = rmsprop, loss ='binary_crossentropy', metrics = ['accuracy'])\n",
    "\n",
    "checkpoint_cb = keras.callbacks.ModelCheckpoint('best-lstm-model.h5')\n",
    "\n",
    "early_stopping_cb = keras.callbacks.EarlyStopping(patience = 3, restore_best_weights = True)\n",
    "\n",
    "history = model.fit(train_seq, train_target, epochs = 100, batch_size = 64,\n",
    "                   validation_data = (val_seq, val_target),\n",
    "                    callbacks = [checkpoint_cb, early_stopping_cb]\n",
    "                   )"
   ]
  },
  {
   "cell_type": "code",
   "execution_count": 7,
   "id": "c73fc0cc",
   "metadata": {},
   "outputs": [
    {
     "data": {
      "image/png": "[encoded data removed]",
      "text/plain": [
       "<Figure size 432x288 with 1 Axes>"
      ]
     },
     "metadata": {
      "needs_background": "light"
     },
     "output_type": "display_data"
    }
   ],
   "source": [
    "import matplotlib.pyplot as plt\n",
    "\n",
    "plt.plot(history.history['loss'])\n",
    "plt.plot(history.history['val_loss'])\n",
    "plt.xlabel('epochs')\n",
    "plt.ylabel('loss')\n",
    "plt.legend(['train','val'])\n",
    "plt.show()"
   ]
  },
  {
   "cell_type": "markdown",
   "id": "a6f5caf7",
   "metadata": {},
   "source": [
    "### 순환층에 드롭아웃 적용\n",
    "\n",
    "순환층은 자체적으로 드롭아웃 기능을 제공 / simpleRNN과 LSTM 모두 dropout 매개변수와 recurrent_dropout 매개변수를 가짐\n",
    "\n",
    "dropout 매개변수는 셀의 입력에 드롭아웃을 적용하고 recurrent_dropout은 순환되는 은닉 상태에 드롭아웃을 적용한다.\n",
    "\n",
    "하지만 기술적인 문제로 recurrent_dropout을 사용하면 GPU를 사용하여 모델 훈련을 못함\n",
    "\n",
    "따라서 dropout 만을 사용해 보겠음"
   ]
  },
  {
   "cell_type": "code",
   "execution_count": 9,
   "id": "c120e58f",
   "metadata": {},
   "outputs": [],
   "source": [
    "model2 = keras.Sequential()\n",
    "model2.add(keras.layers.Embedding(500,16,input_length =100))\n",
    "model2.add(keras.layers.LSTM(8, dropout = 0.3))\n",
    "model2.add(keras.layers.Dense(1, activation = 'sigmoid'))"
   ]
  },
  {
   "cell_type": "code",
   "execution_count": 10,
   "id": "45aba450",
   "metadata": {
    "scrolled": true
   },
   "outputs": [
    {
     "name": "stdout",
     "output_type": "stream",
     "text": [
      "Epoch 1/100\n",
      "313/313 [==============================] - 7s 19ms/step - loss: 0.6925 - accuracy: 0.5420 - val_loss: 0.6916 - val_accuracy: 0.5734\n",
      "Epoch 2/100\n",
      "313/313 [==============================] - 6s 19ms/step - loss: 0.6883 - accuracy: 0.6202 - val_loss: 0.6816 - val_accuracy: 0.6834\n",
      "Epoch 3/100\n",
      "313/313 [==============================] - 6s 19ms/step - loss: 0.6536 - accuracy: 0.6909 - val_loss: 0.6305 - val_accuracy: 0.6948\n",
      "Epoch 4/100\n",
      "313/313 [==============================] - 6s 19ms/step - loss: 0.6206 - accuracy: 0.6982 - val_loss: 0.6123 - val_accuracy: 0.7106\n",
      "Epoch 5/100\n",
      "313/313 [==============================] - 6s 18ms/step - loss: 0.6037 - accuracy: 0.7139 - val_loss: 0.5997 - val_accuracy: 0.7110\n",
      "Epoch 6/100\n",
      "313/313 [==============================] - 6s 19ms/step - loss: 0.5880 - accuracy: 0.7256 - val_loss: 0.5792 - val_accuracy: 0.7380\n",
      "Epoch 7/100\n",
      "313/313 [==============================] - 6s 19ms/step - loss: 0.5697 - accuracy: 0.7375 - val_loss: 0.5653 - val_accuracy: 0.7364\n",
      "Epoch 8/100\n",
      "313/313 [==============================] - 6s 19ms/step - loss: 0.5547 - accuracy: 0.7474 - val_loss: 0.5462 - val_accuracy: 0.7532\n",
      "Epoch 9/100\n",
      "313/313 [==============================] - 6s 19ms/step - loss: 0.5370 - accuracy: 0.7592 - val_loss: 0.5295 - val_accuracy: 0.7634\n",
      "Epoch 10/100\n",
      "313/313 [==============================] - 6s 19ms/step - loss: 0.5205 - accuracy: 0.7659 - val_loss: 0.5155 - val_accuracy: 0.7708\n",
      "Epoch 11/100\n",
      "313/313 [==============================] - 6s 18ms/step - loss: 0.5062 - accuracy: 0.7758 - val_loss: 0.5012 - val_accuracy: 0.7766\n",
      "Epoch 12/100\n",
      "313/313 [==============================] - 6s 19ms/step - loss: 0.4933 - accuracy: 0.7786 - val_loss: 0.4903 - val_accuracy: 0.7834\n",
      "Epoch 13/100\n",
      "313/313 [==============================] - 6s 19ms/step - loss: 0.4825 - accuracy: 0.7889 - val_loss: 0.4857 - val_accuracy: 0.7818\n",
      "Epoch 14/100\n",
      "313/313 [==============================] - 6s 18ms/step - loss: 0.4743 - accuracy: 0.7925 - val_loss: 0.4752 - val_accuracy: 0.7894\n",
      "Epoch 15/100\n",
      "313/313 [==============================] - 6s 19ms/step - loss: 0.4668 - accuracy: 0.7958 - val_loss: 0.4696 - val_accuracy: 0.7932\n",
      "Epoch 16/100\n",
      "313/313 [==============================] - 6s 19ms/step - loss: 0.4606 - accuracy: 0.7953 - val_loss: 0.4647 - val_accuracy: 0.7960\n",
      "Epoch 17/100\n",
      "313/313 [==============================] - 6s 19ms/step - loss: 0.4550 - accuracy: 0.8000 - val_loss: 0.4599 - val_accuracy: 0.7978\n",
      "Epoch 18/100\n",
      "313/313 [==============================] - 6s 19ms/step - loss: 0.4506 - accuracy: 0.7984 - val_loss: 0.4571 - val_accuracy: 0.7970\n",
      "Epoch 19/100\n",
      "313/313 [==============================] - 6s 19ms/step - loss: 0.4461 - accuracy: 0.7993 - val_loss: 0.4524 - val_accuracy: 0.8008\n",
      "Epoch 20/100\n",
      "313/313 [==============================] - 6s 19ms/step - loss: 0.4412 - accuracy: 0.8033 - val_loss: 0.4486 - val_accuracy: 0.7984\n",
      "Epoch 21/100\n",
      "313/313 [==============================] - 6s 19ms/step - loss: 0.4391 - accuracy: 0.8031 - val_loss: 0.4471 - val_accuracy: 0.7988\n",
      "Epoch 22/100\n",
      "313/313 [==============================] - 6s 19ms/step - loss: 0.4355 - accuracy: 0.8038 - val_loss: 0.4432 - val_accuracy: 0.7992\n",
      "Epoch 23/100\n",
      "313/313 [==============================] - 6s 19ms/step - loss: 0.4334 - accuracy: 0.8050 - val_loss: 0.4420 - val_accuracy: 0.7972\n",
      "Epoch 24/100\n",
      "313/313 [==============================] - 6s 19ms/step - loss: 0.4308 - accuracy: 0.8065 - val_loss: 0.4396 - val_accuracy: 0.7994\n",
      "Epoch 25/100\n",
      "313/313 [==============================] - 6s 19ms/step - loss: 0.4294 - accuracy: 0.8048 - val_loss: 0.4392 - val_accuracy: 0.8006\n",
      "Epoch 26/100\n",
      "313/313 [==============================] - 6s 19ms/step - loss: 0.4258 - accuracy: 0.8087 - val_loss: 0.4374 - val_accuracy: 0.8028\n",
      "Epoch 27/100\n",
      "313/313 [==============================] - 6s 19ms/step - loss: 0.4270 - accuracy: 0.8042 - val_loss: 0.4354 - val_accuracy: 0.7980\n",
      "Epoch 28/100\n",
      "313/313 [==============================] - 6s 19ms/step - loss: 0.4251 - accuracy: 0.8064 - val_loss: 0.4375 - val_accuracy: 0.8038\n",
      "Epoch 29/100\n",
      "313/313 [==============================] - 6s 19ms/step - loss: 0.4230 - accuracy: 0.8081 - val_loss: 0.4379 - val_accuracy: 0.7932\n",
      "Epoch 30/100\n",
      "313/313 [==============================] - 6s 19ms/step - loss: 0.4224 - accuracy: 0.8074 - val_loss: 0.4341 - val_accuracy: 0.7974\n",
      "Epoch 31/100\n",
      "313/313 [==============================] - 6s 19ms/step - loss: 0.4196 - accuracy: 0.8091 - val_loss: 0.4330 - val_accuracy: 0.7972\n",
      "Epoch 32/100\n",
      "313/313 [==============================] - 6s 19ms/step - loss: 0.4213 - accuracy: 0.8091 - val_loss: 0.4342 - val_accuracy: 0.8036\n",
      "Epoch 33/100\n",
      "313/313 [==============================] - 6s 19ms/step - loss: 0.4189 - accuracy: 0.8087 - val_loss: 0.4322 - val_accuracy: 0.7984\n",
      "Epoch 34/100\n",
      "313/313 [==============================] - 6s 19ms/step - loss: 0.4181 - accuracy: 0.8085 - val_loss: 0.4319 - val_accuracy: 0.7998\n",
      "Epoch 35/100\n",
      "313/313 [==============================] - 6s 19ms/step - loss: 0.4183 - accuracy: 0.8094 - val_loss: 0.4314 - val_accuracy: 0.7982\n",
      "Epoch 36/100\n",
      "313/313 [==============================] - 6s 19ms/step - loss: 0.4167 - accuracy: 0.8102 - val_loss: 0.4308 - val_accuracy: 0.7950\n",
      "Epoch 37/100\n",
      "313/313 [==============================] - 6s 19ms/step - loss: 0.4158 - accuracy: 0.8123 - val_loss: 0.4311 - val_accuracy: 0.7958\n",
      "Epoch 38/100\n",
      "313/313 [==============================] - 6s 19ms/step - loss: 0.4167 - accuracy: 0.8123 - val_loss: 0.4306 - val_accuracy: 0.7992\n",
      "Epoch 39/100\n",
      "313/313 [==============================] - 6s 19ms/step - loss: 0.4144 - accuracy: 0.8120 - val_loss: 0.4332 - val_accuracy: 0.8032\n",
      "Epoch 40/100\n",
      "313/313 [==============================] - 6s 19ms/step - loss: 0.4156 - accuracy: 0.8102 - val_loss: 0.4304 - val_accuracy: 0.7972\n",
      "Epoch 41/100\n",
      "313/313 [==============================] - 6s 19ms/step - loss: 0.4144 - accuracy: 0.8120 - val_loss: 0.4309 - val_accuracy: 0.7982\n",
      "Epoch 42/100\n",
      "313/313 [==============================] - 6s 19ms/step - loss: 0.4136 - accuracy: 0.8110 - val_loss: 0.4300 - val_accuracy: 0.8008\n",
      "Epoch 43/100\n",
      "313/313 [==============================] - 6s 19ms/step - loss: 0.4147 - accuracy: 0.8084 - val_loss: 0.4325 - val_accuracy: 0.8018\n",
      "Epoch 44/100\n",
      "313/313 [==============================] - 6s 19ms/step - loss: 0.4113 - accuracy: 0.8127 - val_loss: 0.4313 - val_accuracy: 0.7960\n",
      "Epoch 45/100\n",
      "313/313 [==============================] - 6s 19ms/step - loss: 0.4149 - accuracy: 0.8086 - val_loss: 0.4310 - val_accuracy: 0.7962\n"
     ]
    }
   ],
   "source": [
    "rmsprop = keras.optimizers.RMSprop(learning_rate = 1e-4)\n",
    "\n",
    "model2.compile(optimizer = rmsprop, loss ='binary_crossentropy', metrics = ['accuracy'])\n",
    "\n",
    "checkpoint_cb = keras.callbacks.ModelCheckpoint('best-dropout-model.h5')\n",
    "\n",
    "early_stopping_cb = keras.callbacks.EarlyStopping(patience = 3, restore_best_weights = True)\n",
    "\n",
    "history = model2.fit(train_seq, train_target, epochs = 100, batch_size = 64,\n",
    "                   validation_data = (val_seq, val_target),\n",
    "                    callbacks = [checkpoint_cb, early_stopping_cb]\n",
    "                   )"
   ]
  },
  {
   "cell_type": "code",
   "execution_count": 11,
   "id": "ceccc41f",
   "metadata": {},
   "outputs": [
    {
     "data": {
      "image/png": "[encoded data removed]",
      "text/plain": [
       "<Figure size 432x288 with 1 Axes>"
      ]
     },
     "metadata": {
      "needs_background": "light"
     },
     "output_type": "display_data"
    }
   ],
   "source": [
    "import matplotlib.pyplot as plt\n",
    "\n",
    "plt.plot(history.history['loss'])\n",
    "plt.plot(history.history['val_loss'])\n",
    "plt.xlabel('epochs')\n",
    "plt.ylabel('loss')\n",
    "plt.legend(['train','val'])\n",
    "plt.show()"
   ]
  },
  {
   "cell_type": "markdown",
   "id": "eed61076",
   "metadata": {},
   "source": [
    "### 2개의 층 연결하기\n",
    "\n",
    "순환층을 연결할 떄 한가의 주의점!! 순환층의 은닉 상태는 샘플의 마지막 타임스텝에 대한 은닉 상태만 다음 층으로 전달된다.\n",
    "\n",
    "하지만 순환층을 쌓게 되면 모든 순환층에 순차 데이터가 필요\n",
    "\n",
    "따라서 앞쪽의 순환층이 모든 타임스텝에 대한 은닉 상태를 출력해야함\n",
    "\n",
    "케라스의 순환층에서 모든 타임스텝의 은닉상태를 출력하려면 마지막을 제외한 다른 모든 순환층에서 return_sequences 매개변수를 True로 지정하면 된다."
   ]
  },
  {
   "cell_type": "code",
   "execution_count": 13,
   "id": "9f46fb31",
   "metadata": {},
   "outputs": [],
   "source": [
    "model3 = keras.Sequential()\n",
    "model3.add(keras.layers.Embedding(500,16,input_length =100))\n",
    "model3.add(keras.layers.LSTM(8, dropout = 0.3, return_sequences = True))\n",
    "model3.add(keras.layers.LSTM(8, dropout = 0.3))\n",
    "model3.add(keras.layers.Dense(1, activation = 'sigmoid'))"
   ]
  },
  {
   "cell_type": "code",
   "execution_count": 14,
   "id": "958a899c",
   "metadata": {},
   "outputs": [
    {
     "name": "stdout",
     "output_type": "stream",
     "text": [
      "Model: \"sequential_3\"\n",
      "_________________________________________________________________\n",
      "Layer (type)                 Output Shape              Param #   \n",
      "=================================================================\n",
      "embedding_3 (Embedding)      (None, 100, 16)           8000      \n",
      "_________________________________________________________________\n",
      "lstm_2 (LSTM)                (None, 100, 8)            800       \n",
      "_________________________________________________________________\n",
      "lstm_3 (LSTM)                (None, 8)                 544       \n",
      "_________________________________________________________________\n",
      "dense_2 (Dense)              (None, 1)                 9         \n",
      "=================================================================\n",
      "Total params: 9,353\n",
      "Trainable params: 9,353\n",
      "Non-trainable params: 0\n",
      "_________________________________________________________________\n"
     ]
    }
   ],
   "source": [
    "model3.summary()"
   ]
  },
  {
   "cell_type": "code",
   "execution_count": 15,
   "id": "0157d155",
   "metadata": {
    "scrolled": true
   },
   "outputs": [
    {
     "name": "stdout",
     "output_type": "stream",
     "text": [
      "Epoch 1/100\n",
      "313/313 [==============================] - 14s 38ms/step - loss: 0.6926 - accuracy: 0.5499 - val_loss: 0.6919 - val_accuracy: 0.5612\n",
      "Epoch 2/100\n",
      "313/313 [==============================] - 11s 36ms/step - loss: 0.6876 - accuracy: 0.6262 - val_loss: 0.6792 - val_accuracy: 0.6536\n",
      "Epoch 3/100\n",
      "313/313 [==============================] - 11s 36ms/step - loss: 0.6455 - accuracy: 0.6765 - val_loss: 0.6089 - val_accuracy: 0.6954\n",
      "Epoch 4/100\n",
      "313/313 [==============================] - 11s 35ms/step - loss: 0.5862 - accuracy: 0.7087 - val_loss: 0.5668 - val_accuracy: 0.7216\n",
      "Epoch 5/100\n",
      "313/313 [==============================] - 11s 35ms/step - loss: 0.5556 - accuracy: 0.7326 - val_loss: 0.5438 - val_accuracy: 0.7352\n",
      "Epoch 6/100\n",
      "313/313 [==============================] - 11s 36ms/step - loss: 0.5357 - accuracy: 0.7438 - val_loss: 0.5282 - val_accuracy: 0.7420\n",
      "Epoch 7/100\n",
      "313/313 [==============================] - 11s 35ms/step - loss: 0.5154 - accuracy: 0.7593 - val_loss: 0.5085 - val_accuracy: 0.7558\n",
      "Epoch 8/100\n",
      "313/313 [==============================] - 11s 36ms/step - loss: 0.5004 - accuracy: 0.7692 - val_loss: 0.4940 - val_accuracy: 0.7716\n",
      "Epoch 9/100\n",
      "313/313 [==============================] - 11s 35ms/step - loss: 0.4900 - accuracy: 0.7750 - val_loss: 0.4848 - val_accuracy: 0.7732\n",
      "Epoch 10/100\n",
      "313/313 [==============================] - 11s 35ms/step - loss: 0.4815 - accuracy: 0.7775 - val_loss: 0.4790 - val_accuracy: 0.7746\n",
      "Epoch 11/100\n",
      "313/313 [==============================] - 11s 36ms/step - loss: 0.4752 - accuracy: 0.7821 - val_loss: 0.4756 - val_accuracy: 0.7756\n",
      "Epoch 12/100\n",
      "313/313 [==============================] - 11s 36ms/step - loss: 0.4690 - accuracy: 0.7868 - val_loss: 0.4675 - val_accuracy: 0.7844\n",
      "Epoch 13/100\n",
      "313/313 [==============================] - 11s 36ms/step - loss: 0.4658 - accuracy: 0.7848 - val_loss: 0.4698 - val_accuracy: 0.7786\n",
      "Epoch 14/100\n",
      "313/313 [==============================] - 11s 35ms/step - loss: 0.4589 - accuracy: 0.7911 - val_loss: 0.4635 - val_accuracy: 0.7870\n",
      "Epoch 15/100\n",
      "313/313 [==============================] - 11s 36ms/step - loss: 0.4577 - accuracy: 0.7907 - val_loss: 0.4569 - val_accuracy: 0.7876\n",
      "Epoch 16/100\n",
      "313/313 [==============================] - 11s 36ms/step - loss: 0.4537 - accuracy: 0.7921 - val_loss: 0.4615 - val_accuracy: 0.7796\n",
      "Epoch 17/100\n",
      "313/313 [==============================] - 11s 36ms/step - loss: 0.4479 - accuracy: 0.7976 - val_loss: 0.4533 - val_accuracy: 0.7892\n",
      "Epoch 18/100\n",
      "313/313 [==============================] - 11s 35ms/step - loss: 0.4471 - accuracy: 0.7968 - val_loss: 0.4502 - val_accuracy: 0.7912\n",
      "Epoch 19/100\n",
      "313/313 [==============================] - 11s 35ms/step - loss: 0.4445 - accuracy: 0.7958 - val_loss: 0.4503 - val_accuracy: 0.7902\n",
      "Epoch 20/100\n",
      "313/313 [==============================] - 11s 35ms/step - loss: 0.4441 - accuracy: 0.7977 - val_loss: 0.4492 - val_accuracy: 0.7910\n",
      "Epoch 21/100\n",
      "313/313 [==============================] - 11s 35ms/step - loss: 0.4401 - accuracy: 0.8007 - val_loss: 0.4460 - val_accuracy: 0.7948\n",
      "Epoch 22/100\n",
      "313/313 [==============================] - 11s 36ms/step - loss: 0.4404 - accuracy: 0.7973 - val_loss: 0.4522 - val_accuracy: 0.7892\n",
      "Epoch 23/100\n",
      "313/313 [==============================] - 11s 36ms/step - loss: 0.4375 - accuracy: 0.8004 - val_loss: 0.4426 - val_accuracy: 0.7944\n",
      "Epoch 24/100\n",
      "313/313 [==============================] - 11s 35ms/step - loss: 0.4376 - accuracy: 0.7978 - val_loss: 0.4427 - val_accuracy: 0.7966\n",
      "Epoch 25/100\n",
      "313/313 [==============================] - 11s 35ms/step - loss: 0.4345 - accuracy: 0.7995 - val_loss: 0.4404 - val_accuracy: 0.7948\n",
      "Epoch 26/100\n",
      "313/313 [==============================] - 11s 35ms/step - loss: 0.4337 - accuracy: 0.8023 - val_loss: 0.4397 - val_accuracy: 0.7948\n",
      "Epoch 27/100\n",
      "313/313 [==============================] - 11s 35ms/step - loss: 0.4306 - accuracy: 0.8028 - val_loss: 0.4386 - val_accuracy: 0.7954\n",
      "Epoch 28/100\n",
      "313/313 [==============================] - 11s 35ms/step - loss: 0.4327 - accuracy: 0.8023 - val_loss: 0.4406 - val_accuracy: 0.8008\n",
      "Epoch 29/100\n",
      "313/313 [==============================] - 11s 35ms/step - loss: 0.4292 - accuracy: 0.8048 - val_loss: 0.4371 - val_accuracy: 0.7980\n",
      "Epoch 30/100\n",
      "313/313 [==============================] - 11s 36ms/step - loss: 0.4279 - accuracy: 0.8038 - val_loss: 0.4397 - val_accuracy: 0.8004\n",
      "Epoch 31/100\n",
      "313/313 [==============================] - 11s 35ms/step - loss: 0.4266 - accuracy: 0.8067 - val_loss: 0.4362 - val_accuracy: 0.8002\n",
      "Epoch 32/100\n",
      "313/313 [==============================] - 11s 36ms/step - loss: 0.4257 - accuracy: 0.8048 - val_loss: 0.4348 - val_accuracy: 0.7998\n",
      "Epoch 33/100\n",
      "313/313 [==============================] - 11s 36ms/step - loss: 0.4237 - accuracy: 0.8065 - val_loss: 0.4444 - val_accuracy: 0.7884\n",
      "Epoch 34/100\n",
      "313/313 [==============================] - 11s 35ms/step - loss: 0.4237 - accuracy: 0.8065 - val_loss: 0.4361 - val_accuracy: 0.8030\n",
      "Epoch 35/100\n",
      "313/313 [==============================] - 11s 35ms/step - loss: 0.4241 - accuracy: 0.8058 - val_loss: 0.4338 - val_accuracy: 0.7974\n",
      "Epoch 36/100\n",
      "313/313 [==============================] - 11s 35ms/step - loss: 0.4225 - accuracy: 0.8077 - val_loss: 0.4330 - val_accuracy: 0.7972\n",
      "Epoch 37/100\n",
      "313/313 [==============================] - 11s 35ms/step - loss: 0.4231 - accuracy: 0.8048 - val_loss: 0.4320 - val_accuracy: 0.7994\n",
      "Epoch 38/100\n",
      "313/313 [==============================] - 11s 35ms/step - loss: 0.4190 - accuracy: 0.8068 - val_loss: 0.4318 - val_accuracy: 0.8020\n",
      "Epoch 39/100\n",
      "313/313 [==============================] - 11s 36ms/step - loss: 0.4202 - accuracy: 0.8073 - val_loss: 0.4313 - val_accuracy: 0.8016\n",
      "Epoch 40/100\n",
      "313/313 [==============================] - 12s 37ms/step - loss: 0.4170 - accuracy: 0.8106 - val_loss: 0.4303 - val_accuracy: 0.8024\n",
      "Epoch 41/100\n",
      "313/313 [==============================] - 11s 36ms/step - loss: 0.4174 - accuracy: 0.8115 - val_loss: 0.4383 - val_accuracy: 0.8010\n",
      "Epoch 42/100\n",
      "313/313 [==============================] - 11s 37ms/step - loss: 0.4151 - accuracy: 0.8083 - val_loss: 0.4317 - val_accuracy: 0.8044\n",
      "Epoch 43/100\n",
      "313/313 [==============================] - 12s 37ms/step - loss: 0.4176 - accuracy: 0.8102 - val_loss: 0.4289 - val_accuracy: 0.8044\n",
      "Epoch 44/100\n",
      "313/313 [==============================] - 11s 36ms/step - loss: 0.4153 - accuracy: 0.8094 - val_loss: 0.4301 - val_accuracy: 0.8038\n",
      "Epoch 45/100\n",
      "313/313 [==============================] - 11s 36ms/step - loss: 0.4155 - accuracy: 0.8109 - val_loss: 0.4289 - val_accuracy: 0.8042\n",
      "Epoch 46/100\n",
      "313/313 [==============================] - 11s 36ms/step - loss: 0.4133 - accuracy: 0.8120 - val_loss: 0.4296 - val_accuracy: 0.8066\n",
      "Epoch 47/100\n",
      "313/313 [==============================] - 11s 36ms/step - loss: 0.4139 - accuracy: 0.8086 - val_loss: 0.4274 - val_accuracy: 0.8058\n",
      "Epoch 48/100\n",
      "313/313 [==============================] - 11s 36ms/step - loss: 0.4120 - accuracy: 0.8130 - val_loss: 0.4282 - val_accuracy: 0.8060\n",
      "Epoch 49/100\n",
      "313/313 [==============================] - 11s 36ms/step - loss: 0.4118 - accuracy: 0.8140 - val_loss: 0.4270 - val_accuracy: 0.8066\n",
      "Epoch 50/100\n",
      "313/313 [==============================] - 11s 36ms/step - loss: 0.4100 - accuracy: 0.8131 - val_loss: 0.4289 - val_accuracy: 0.8056\n",
      "Epoch 51/100\n",
      "313/313 [==============================] - 11s 36ms/step - loss: 0.4104 - accuracy: 0.8106 - val_loss: 0.4265 - val_accuracy: 0.8070\n",
      "Epoch 52/100\n",
      "313/313 [==============================] - 11s 37ms/step - loss: 0.4089 - accuracy: 0.8128 - val_loss: 0.4267 - val_accuracy: 0.8060\n",
      "Epoch 53/100\n",
      "313/313 [==============================] - 11s 36ms/step - loss: 0.4075 - accuracy: 0.8130 - val_loss: 0.4266 - val_accuracy: 0.8066\n",
      "Epoch 54/100\n",
      "313/313 [==============================] - 11s 36ms/step - loss: 0.4083 - accuracy: 0.8117 - val_loss: 0.4268 - val_accuracy: 0.8072\n"
     ]
    }
   ],
   "source": [
    "rmsprop = keras.optimizers.RMSprop(learning_rate = 1e-4)\n",
    "\n",
    "model3.compile(optimizer = rmsprop, loss ='binary_crossentropy', metrics = ['accuracy'])\n",
    "\n",
    "checkpoint_cb = keras.callbacks.ModelCheckpoint('best-2rnn-model.h5')\n",
    "\n",
    "early_stopping_cb = keras.callbacks.EarlyStopping(patience = 3, restore_best_weights = True)\n",
    "\n",
    "history = model3.fit(train_seq, train_target, epochs = 100, batch_size = 64,\n",
    "                   validation_data = (val_seq, val_target),\n",
    "                    callbacks = [checkpoint_cb, early_stopping_cb]\n",
    "                   )"
   ]
  },
  {
   "cell_type": "code",
   "execution_count": 16,
   "id": "6ee796a7",
   "metadata": {},
   "outputs": [
    {
     "data": {
      "image/png": "[encoded data removed]",
      "text/plain": [
       "<Figure size 432x288 with 1 Axes>"
      ]
     },
     "metadata": {
      "needs_background": "light"
     },
     "output_type": "display_data"
    }
   ],
   "source": [
    "import matplotlib.pyplot as plt\n",
    "\n",
    "plt.plot(history.history['loss'])\n",
    "plt.plot(history.history['val_loss'])\n",
    "plt.xlabel('epochs')\n",
    "plt.ylabel('loss')\n",
    "plt.legend(['train','val'])\n",
    "plt.show()"
   ]
  }
 ],
 "metadata": {
  "kernelspec": {
   "display_name": "Python [conda env:sshstudy] *",
   "language": "python",
   "name": "conda-env-sshstudy-py"
  },
  "language_info": {
   "codemirror_mode": {
    "name": "ipython",
    "version": 3
   },
   "file_extension": ".py",
   "mimetype": "text/x-python",
   "name": "python",
   "nbconvert_exporter": "python",
   "pygments_lexer": "ipython3",
   "version": "3.8.11"
  }
 },
 "nbformat": 4,
 "nbformat_minor": 5
}
