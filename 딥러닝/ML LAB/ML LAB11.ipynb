{
 "cells": [
  {
   "cell_type": "code",
   "execution_count": 10,
   "id": "c0e0ee14",
   "metadata": {},
   "outputs": [],
   "source": [
    " # Lab 11 MNIST and Convolutional Neural Network\n",
    "import numpy as np\n",
    "from tensorflow import keras\n",
    "import random"
   ]
  },
  {
   "cell_type": "code",
   "execution_count": 2,
   "id": "7b3e567a",
   "metadata": {},
   "outputs": [],
   "source": [
    "mnist = tf.keras.datasets.mnist"
   ]
  },
  {
   "cell_type": "code",
   "execution_count": 4,
   "id": "d7636039",
   "metadata": {},
   "outputs": [],
   "source": [
    "(x_train, y_train), (x_test, y_test) = mnist.load_data()"
   ]
  },
  {
   "cell_type": "code",
   "execution_count": 6,
   "id": "a7fb4855",
   "metadata": {},
   "outputs": [
    {
     "data": {
      "text/plain": [
       "(60000, 28, 28)"
      ]
     },
     "execution_count": 6,
     "metadata": {},
     "output_type": "execute_result"
    }
   ],
   "source": [
    "x_train.shape"
   ]
  },
  {
   "cell_type": "code",
   "execution_count": 7,
   "id": "2e51e198",
   "metadata": {},
   "outputs": [],
   "source": [
    "x_test = x_test /255\n",
    "x_train = x_train /255\n",
    "x_train = x_train.reshape(x_train.shape[0],28,28,1)\n",
    "x_test = x_test.reshape(x_test.shape[0],28,28,1)"
   ]
  },
  {
   "cell_type": "code",
   "execution_count": 8,
   "id": "81aade9a",
   "metadata": {},
   "outputs": [],
   "source": [
    "#one hot encode y data\n",
    "y_train = tf.keras.utils.to_categorical(y_train, 10)\n",
    "y_test = tf.keras.utils.to_categorical(y_test, 10)"
   ]
  },
  {
   "cell_type": "code",
   "execution_count": 9,
   "id": "83fc9010",
   "metadata": {},
   "outputs": [],
   "source": [
    "#hyper parameters\n",
    "learning_rate = 0.001\n",
    "training_epochs = 12\n",
    "batch_size = 128"
   ]
  },
  {
   "cell_type": "code",
   "execution_count": 14,
   "id": "77fdbc45",
   "metadata": {},
   "outputs": [],
   "source": [
    "model = keras.Sequential()\n",
    "\n",
    "#L1\n",
    "model.add(keras.layers.Conv2D(filters =16, kernel_size = 3, \n",
    "                              input_shape=(28,28,1),activation = 'relu'))\n",
    "model.add(keras.layers.MaxPooling2D(pool_size = 2))"
   ]
  },
  {
   "cell_type": "code",
   "execution_count": 15,
   "id": "9d3a4c2e",
   "metadata": {},
   "outputs": [],
   "source": [
    "#L2\n",
    "model.add(keras.layers.Conv2D(filters =32, kernel_size = 3, activation = 'relu'))\n",
    "model.add(keras.layers.MaxPooling2D(pool_size =2))"
   ]
  },
  {
   "cell_type": "code",
   "execution_count": 18,
   "id": "019afda1",
   "metadata": {},
   "outputs": [],
   "source": [
    "#L3 Fully Connected\n",
    "import warnings\n",
    "warnings.filterwarnings('ignore')\n",
    "\n",
    "model.add(keras.layers.Flatten())\n",
    "model.add(keras.layers.Dense(units = 10, kernel_initializer = 'glorot_normal',\n",
    "                            activation = 'softmax'))\n",
    "model.compile(loss = 'categorical_crossentropy', \n",
    "              optimizer = keras.optimizers.Adam(lr = learning_rate), \n",
    "              metrics = ['accuracy'])"
   ]
  },
  {
   "cell_type": "code",
   "execution_count": 20,
   "id": "fa42cd17",
   "metadata": {},
   "outputs": [
    {
     "name": "stdout",
     "output_type": "stream",
     "text": [
      "Model: \"sequential_3\"\n",
      "_________________________________________________________________\n",
      "Layer (type)                 Output Shape              Param #   \n",
      "=================================================================\n",
      "conv2d_2 (Conv2D)            (None, 26, 26, 16)        160       \n",
      "_________________________________________________________________\n",
      "max_pooling2d (MaxPooling2D) (None, 13, 13, 16)        0         \n",
      "_________________________________________________________________\n",
      "conv2d_3 (Conv2D)            (None, 11, 11, 32)        4640      \n",
      "_________________________________________________________________\n",
      "max_pooling2d_1 (MaxPooling2 (None, 5, 5, 32)          0         \n",
      "_________________________________________________________________\n",
      "flatten (Flatten)            (None, 800)               0         \n",
      "_________________________________________________________________\n",
      "dense (Dense)                (None, 10)                8010      \n",
      "_________________________________________________________________\n",
      "flatten_1 (Flatten)          (None, 10)                0         \n",
      "_________________________________________________________________\n",
      "dense_1 (Dense)              (None, 10)                110       \n",
      "=================================================================\n",
      "Total params: 12,920\n",
      "Trainable params: 12,920\n",
      "Non-trainable params: 0\n",
      "_________________________________________________________________\n"
     ]
    }
   ],
   "source": [
    "model.summary()"
   ]
  },
  {
   "cell_type": "code",
   "execution_count": 22,
   "id": "172c1fc0",
   "metadata": {
    "scrolled": true
   },
   "outputs": [
    {
     "name": "stdout",
     "output_type": "stream",
     "text": [
      "Epoch 1/12\n",
      "469/469 [==============================] - 8s 15ms/step - loss: 1.7436 - accuracy: 0.6019\n",
      "Epoch 2/12\n",
      "469/469 [==============================] - 7s 16ms/step - loss: 1.2497 - accuracy: 0.6855\n",
      "Epoch 3/12\n",
      "469/469 [==============================] - 7s 16ms/step - loss: 0.9843 - accuracy: 0.6925\n",
      "Epoch 4/12\n",
      "469/469 [==============================] - 7s 16ms/step - loss: 0.8395 - accuracy: 0.6960\n",
      "Epoch 5/12\n",
      "469/469 [==============================] - 7s 16ms/step - loss: 0.7546 - accuracy: 0.6988\n",
      "Epoch 6/12\n",
      "469/469 [==============================] - 7s 15ms/step - loss: 0.7010 - accuracy: 0.7016\n",
      "Epoch 7/12\n",
      "469/469 [==============================] - 7s 16ms/step - loss: 0.6660 - accuracy: 0.7021\n",
      "Epoch 8/12\n",
      "469/469 [==============================] - 7s 16ms/step - loss: 0.6416 - accuracy: 0.7074\n",
      "Epoch 9/12\n",
      "469/469 [==============================] - 7s 16ms/step - loss: 0.5385 - accuracy: 0.7967\n",
      "Epoch 10/12\n",
      "469/469 [==============================] - 7s 16ms/step - loss: 0.4413 - accuracy: 0.8050\n",
      "Epoch 11/12\n",
      "469/469 [==============================] - 7s 16ms/step - loss: 0.4085 - accuracy: 0.8078\n",
      "Epoch 12/12\n",
      "469/469 [==============================] - 7s 15ms/step - loss: 0.3164 - accuracy: 0.8867\n"
     ]
    },
    {
     "data": {
      "text/plain": [
       "<keras.callbacks.History at 0x150dade3ee0>"
      ]
     },
     "execution_count": 22,
     "metadata": {},
     "output_type": "execute_result"
    }
   ],
   "source": [
    "model.fit(x_train, y_train, batch_size = batch_size, epochs = training_epochs)"
   ]
  },
  {
   "cell_type": "code",
   "execution_count": 27,
   "id": "17d914d1",
   "metadata": {},
   "outputs": [
    {
     "name": "stdout",
     "output_type": "stream",
     "text": [
      "index :  3556 predicted: 5 real Y : 5\n",
      "index :  5126 predicted: 4 real Y : 4\n",
      "index :  5091 predicted: 1 real Y : 1\n",
      "index :  2504 predicted: 1 real Y : 1\n",
      "index :  5688 predicted: 7 real Y : 7\n",
      "index :  1032 predicted: 5 real Y : 5\n",
      "index :  6355 predicted: 6 real Y : 6\n",
      "index :  5222 predicted: 5 real Y : 5\n",
      "index :  3105 predicted: 2 real Y : 2\n",
      "index :  14 predicted: 1 real Y : 1\n"
     ]
    }
   ],
   "source": [
    "#predict 10 random handwriting data\n",
    "y_predicted = model.predict(x_test)\n",
    "\n",
    "for x in range(10):\n",
    "    random_index = random.randint(0, x_test.shape[0]-1)\n",
    "    print('index : ', random_index,\n",
    "         'predicted:', np.argmax(y_predicted[random_index]),\n",
    "          'real Y :', np.argmax(y_test[random_index])         \n",
    "         \n",
    "         )"
   ]
  },
  {
   "cell_type": "code",
   "execution_count": 28,
   "id": "451d3298",
   "metadata": {},
   "outputs": [
    {
     "name": "stdout",
     "output_type": "stream",
     "text": [
      "313/313 [==============================] - 1s 1ms/step - loss: 0.2782 - accuracy: 0.8906\n",
      "loss :  0.27824175357818604\n",
      "accuracy :  0.8906000256538391\n"
     ]
    }
   ],
   "source": [
    "#evaluation\n",
    "\n",
    "evaluation = model.evaluate(x_test,y_test)\n",
    "\n",
    "print('loss : ', evaluation[0])\n",
    "print('accuracy : ', evaluation[1])"
   ]
  }
 ],
 "metadata": {
  "kernelspec": {
   "display_name": "Python [conda env:sshstudy] *",
   "language": "python",
   "name": "conda-env-sshstudy-py"
  },
  "language_info": {
   "codemirror_mode": {
    "name": "ipython",
    "version": 3
   },
   "file_extension": ".py",
   "mimetype": "text/x-python",
   "name": "python",
   "nbconvert_exporter": "python",
   "pygments_lexer": "ipython3",
   "version": "3.8.11"
  }
 },
 "nbformat": 4,
 "nbformat_minor": 5
}
