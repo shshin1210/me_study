{
 "cells": [
  {
   "cell_type": "code",
   "execution_count": 1,
   "id": "f5907c23",
   "metadata": {},
   "outputs": [],
   "source": [
    "# Lab 10 MNIST and NN\n",
    "import numpy as np\n",
    "import random\n",
    "import tensorflow as tf"
   ]
  },
  {
   "cell_type": "code",
   "execution_count": 2,
   "id": "5999d615",
   "metadata": {},
   "outputs": [],
   "source": [
    "random.seed(777) #for reproducibility\n",
    "learning_rate = 0.001\n",
    "batch_size = 100\n",
    "training_epochs = 15\n",
    "nb_classes = 10"
   ]
  },
  {
   "cell_type": "code",
   "execution_count": 3,
   "id": "1f0db210",
   "metadata": {},
   "outputs": [
    {
     "name": "stdout",
     "output_type": "stream",
     "text": [
      "(60000, 28, 28)\n"
     ]
    }
   ],
   "source": [
    "(x_train, y_train),(x_test, y_test) = tf.keras.datasets.mnist.load_data()\n",
    "print(x_train.shape)"
   ]
  },
  {
   "cell_type": "code",
   "execution_count": 4,
   "id": "cbcf8a4e",
   "metadata": {},
   "outputs": [],
   "source": [
    "y_train = tf.keras.utils.to_categorical(y_train, nb_classes)\n",
    "y_test = tf.keras.utils.to_categorical(y_test, nb_classes)"
   ]
  },
  {
   "cell_type": "markdown",
   "id": "4297416d",
   "metadata": {},
   "source": [
    "  kernel_initializer: Initializer for the `kernel` weights matrix."
   ]
  },
  {
   "cell_type": "code",
   "execution_count": 5,
   "id": "f07cb79c",
   "metadata": {},
   "outputs": [],
   "source": [
    "def model_fn(*args):\n",
    "        tf.model = tf.model = tf.keras.Sequential()\n",
    "        tf.model.add(tf.keras.layers.Flatten(input_shape=(28,28)))\n",
    "        tf.model.add(tf.keras.layers.Dense(input_dim=784, units=512, kernel_initializer='glorot_normal', activation='relu'))\n",
    "\n",
    "        if add_layer :\n",
    "            tf.model.add(add_layer)\n",
    "        tf.model.add(tf.keras.layers.Dense(units = 10, kernel_initializer = 'glorot_normal', activation = 'softmax'))\n",
    "        \n",
    "        return tf.model"
   ]
  },
  {
   "cell_type": "markdown",
   "id": "3923350e",
   "metadata": {},
   "source": [
    "## 함수 다시 짜야할듯 여러개 추가할때는 어떻게?"
   ]
  },
  {
   "cell_type": "code",
   "execution_count": 6,
   "id": "39cac161",
   "metadata": {},
   "outputs": [],
   "source": [
    "tf.model = model_fn(tf.keras.layers.Dense(units = 512, kernel_initializer='glorot_normal', activation='relu'))\n",
    "tf.model = model_fn(tf.keras.layers.Dropout(0.3))\n",
    "tf.model = model_fn(tf.keras.layers.Dense(units = 512, kernel_initializer='glorot_normal', activation='relu'))\n",
    "tf.model = model_fn(tf.keras.layers.Dropout(0.3))\n",
    "tf.model = model_fn(tf.keras.layers.Dense(units = 512, kernel_initializer='glorot_normal', activation='relu'))\n",
    "tf.model = model_fn(tf.keras.layers.Dropout(0.3))"
   ]
  },
  {
   "cell_type": "code",
   "execution_count": 7,
   "id": "73a98b45",
   "metadata": {},
   "outputs": [
    {
     "name": "stderr",
     "output_type": "stream",
     "text": [
      "C:\\Users\\queenSSH\\anaconda3\\envs\\sshstudy\\lib\\site-packages\\keras\\optimizer_v2\\optimizer_v2.py:355: UserWarning: The `lr` argument is deprecated, use `learning_rate` instead.\n",
      "  warnings.warn(\n"
     ]
    }
   ],
   "source": [
    "tf.model.compile(loss='categorical_crossentropy',\n",
    "                 optimizer=tf.keras.optimizers.Adam(lr=learning_rate), metrics=['accuracy'])"
   ]
  },
  {
   "cell_type": "code",
   "execution_count": 8,
   "id": "7bb045cb",
   "metadata": {},
   "outputs": [
    {
     "name": "stdout",
     "output_type": "stream",
     "text": [
      "Model: \"sequential_5\"\n",
      "_________________________________________________________________\n",
      "Layer (type)                 Output Shape              Param #   \n",
      "=================================================================\n",
      "flatten_5 (Flatten)          (None, 784)               0         \n",
      "_________________________________________________________________\n",
      "dense_13 (Dense)             (None, 512)               401920    \n",
      "_________________________________________________________________\n",
      "dropout_2 (Dropout)          (None, 512)               0         \n",
      "_________________________________________________________________\n",
      "dense_14 (Dense)             (None, 10)                5130      \n",
      "=================================================================\n",
      "Total params: 407,050\n",
      "Trainable params: 407,050\n",
      "Non-trainable params: 0\n",
      "_________________________________________________________________\n"
     ]
    }
   ],
   "source": [
    "tf.model.summary()"
   ]
  },
  {
   "cell_type": "code",
   "execution_count": 9,
   "id": "f2f7d6d0",
   "metadata": {
    "scrolled": true
   },
   "outputs": [
    {
     "name": "stdout",
     "output_type": "stream",
     "text": [
      "Epoch 1/15\n",
      "600/600 [==============================] - 2s 2ms/step - loss: 4.3276 - accuracy: 0.8674\n",
      "Epoch 2/15\n",
      "600/600 [==============================] - 1s 2ms/step - loss: 0.4693 - accuracy: 0.9095\n",
      "Epoch 3/15\n",
      "600/600 [==============================] - 1s 2ms/step - loss: 0.3219 - accuracy: 0.9258\n",
      "Epoch 4/15\n",
      "600/600 [==============================] - 1s 2ms/step - loss: 0.2813 - accuracy: 0.9343\n",
      "Epoch 5/15\n",
      "600/600 [==============================] - 2s 3ms/step - loss: 0.2661 - accuracy: 0.9362\n",
      "Epoch 6/15\n",
      "600/600 [==============================] - 1s 2ms/step - loss: 0.2651 - accuracy: 0.9365\n",
      "Epoch 7/15\n",
      "600/600 [==============================] - 1s 2ms/step - loss: 0.2581 - accuracy: 0.9376\n",
      "Epoch 8/15\n",
      "600/600 [==============================] - 1s 2ms/step - loss: 0.2696 - accuracy: 0.9383\n",
      "Epoch 9/15\n",
      "600/600 [==============================] - 1s 2ms/step - loss: 0.2627 - accuracy: 0.9390\n",
      "Epoch 10/15\n",
      "600/600 [==============================] - 1s 2ms/step - loss: 0.2421 - accuracy: 0.9441\n",
      "Epoch 11/15\n",
      "600/600 [==============================] - 2s 3ms/step - loss: 0.2422 - accuracy: 0.9435\n",
      "Epoch 12/15\n",
      "600/600 [==============================] - 1s 2ms/step - loss: 0.2467 - accuracy: 0.9437\n",
      "Epoch 13/15\n",
      "600/600 [==============================] - 1s 2ms/step - loss: 0.2285 - accuracy: 0.9464\n",
      "Epoch 14/15\n",
      "600/600 [==============================] - 1s 2ms/step - loss: 0.2376 - accuracy: 0.9464\n",
      "Epoch 15/15\n",
      "600/600 [==============================] - 1s 2ms/step - loss: 0.2283 - accuracy: 0.9493\n"
     ]
    }
   ],
   "source": [
    "history = tf.model.fit(x_train, y_train, batch_size=batch_size, epochs=training_epochs)"
   ]
  },
  {
   "cell_type": "code",
   "execution_count": 10,
   "id": "14b059d3",
   "metadata": {},
   "outputs": [
    {
     "name": "stdout",
     "output_type": "stream",
     "text": [
      "index:  3757 actual y:  8 predicted y:  8\n",
      "index:  7304 actual y:  5 predicted y:  5\n",
      "index:  7300 actual y:  7 predicted y:  7\n",
      "index:  6039 actual y:  9 predicted y:  9\n",
      "index:  9429 actual y:  3 predicted y:  3\n",
      "index:  4420 actual y:  5 predicted y:  5\n",
      "index:  5507 actual y:  2 predicted y:  2\n",
      "index:  8809 actual y:  1 predicted y:  1\n",
      "index:  654 actual y:  5 predicted y:  5\n",
      "index:  7302 actual y:  8 predicted y:  8\n"
     ]
    }
   ],
   "source": [
    "# predict 10 random hand-writing data\n",
    "y_predicted = tf.model.predict(x_test)\n",
    "for x in range(0, 10):\n",
    "    random_index = random.randint(0, x_test.shape[0]-1)\n",
    "    print(\"index: \", random_index,\n",
    "          \"actual y: \", np.argmax(y_test[random_index]),\n",
    "          \"predicted y: \", np.argmax(y_predicted[random_index]))"
   ]
  },
  {
   "cell_type": "code",
   "execution_count": 11,
   "id": "4b7a29b4",
   "metadata": {},
   "outputs": [
    {
     "name": "stdout",
     "output_type": "stream",
     "text": [
      "313/313 [==============================] - 0s 544us/step - loss: 0.2202 - accuracy: 0.9594\n",
      "loss:  0.22019022703170776\n",
      "accuracy 0.9593999981880188\n"
     ]
    }
   ],
   "source": [
    "# evaluate test set\n",
    "evaluation = tf.model.evaluate(x_test, y_test)\n",
    "print('loss: ', evaluation[0])\n",
    "print('accuracy', evaluation[1])"
   ]
  }
 ],
 "metadata": {
  "kernelspec": {
   "display_name": "Python [conda env:sshstudy] *",
   "language": "python",
   "name": "conda-env-sshstudy-py"
  },
  "language_info": {
   "codemirror_mode": {
    "name": "ipython",
    "version": 3
   },
   "file_extension": ".py",
   "mimetype": "text/x-python",
   "name": "python",
   "nbconvert_exporter": "python",
   "pygments_lexer": "ipython3",
   "version": "3.8.11"
  }
 },
 "nbformat": 4,
 "nbformat_minor": 5
}
